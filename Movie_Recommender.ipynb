{
 "cells": [
  {
   "cell_type": "code",
   "execution_count": 1,
   "metadata": {},
   "outputs": [],
   "source": [
    "import numpy as np\n",
    "import pandas as pd \n",
    "import matplotlib.pyplot as plt\n",
    "import os"
   ]
  },
  {
   "cell_type": "code",
   "execution_count": 11,
   "metadata": {},
   "outputs": [],
   "source": [
    "movies = pd.read_csv('10000 Movies Data')\n",
    "credits= pd.read_csv('10000 Credits Data')"
   ]
  },
  {
   "cell_type": "code",
   "execution_count": 14,
   "metadata": {},
   "outputs": [
    {
     "data": {
      "text/html": [
       "<div>\n",
       "<style scoped>\n",
       "    .dataframe tbody tr th:only-of-type {\n",
       "        vertical-align: middle;\n",
       "    }\n",
       "\n",
       "    .dataframe tbody tr th {\n",
       "        vertical-align: top;\n",
       "    }\n",
       "\n",
       "    .dataframe thead th {\n",
       "        text-align: right;\n",
       "    }\n",
       "</style>\n",
       "<table border=\"1\" class=\"dataframe\">\n",
       "  <thead>\n",
       "    <tr style=\"text-align: right;\">\n",
       "      <th></th>\n",
       "      <th>Unnamed: 0</th>\n",
       "      <th>Movie_id</th>\n",
       "      <th>title</th>\n",
       "      <th>Genres</th>\n",
       "      <th>release_date</th>\n",
       "      <th>Keywords</th>\n",
       "      <th>overview</th>\n",
       "      <th>poster_path</th>\n",
       "      <th>Budget</th>\n",
       "      <th>Revenue</th>\n",
       "      <th>popularity</th>\n",
       "      <th>vote_average</th>\n",
       "      <th>vote_count</th>\n",
       "    </tr>\n",
       "  </thead>\n",
       "  <tbody>\n",
       "    <tr>\n",
       "      <th>0</th>\n",
       "      <td>0</td>\n",
       "      <td>238</td>\n",
       "      <td>The Godfather</td>\n",
       "      <td>[{'id': 18, 'name': 'Drama'}, {'id': 80, 'name...</td>\n",
       "      <td>1972-03-14</td>\n",
       "      <td>[{'id': 131, 'name': 'italy'}, {'id': 697, 'na...</td>\n",
       "      <td>Spanning the years 1945 to 1955, a chronicle o...</td>\n",
       "      <td>/3bhkrj58Vtu7enYsRolD1fZdja1.jpg</td>\n",
       "      <td>245066411</td>\n",
       "      <td>245066411</td>\n",
       "      <td>93.552</td>\n",
       "      <td>8.7</td>\n",
       "      <td>16814</td>\n",
       "    </tr>\n",
       "    <tr>\n",
       "      <th>1</th>\n",
       "      <td>1</td>\n",
       "      <td>278</td>\n",
       "      <td>The Shawshank Redemption</td>\n",
       "      <td>[{'id': 18, 'name': 'Drama'}, {'id': 80, 'name...</td>\n",
       "      <td>1994-09-23</td>\n",
       "      <td>[{'id': 378, 'name': 'prison'}, {'id': 417, 'n...</td>\n",
       "      <td>Framed in the 1940s for the double murder of h...</td>\n",
       "      <td>/q6y0Go1tsGEsmtFryDOJo3dEmqu.jpg</td>\n",
       "      <td>28341469</td>\n",
       "      <td>28341469</td>\n",
       "      <td>78.664</td>\n",
       "      <td>8.7</td>\n",
       "      <td>22542</td>\n",
       "    </tr>\n",
       "    <tr>\n",
       "      <th>2</th>\n",
       "      <td>2</td>\n",
       "      <td>240</td>\n",
       "      <td>The Godfather Part II</td>\n",
       "      <td>[{'id': 18, 'name': 'Drama'}, {'id': 80, 'name...</td>\n",
       "      <td>1974-12-20</td>\n",
       "      <td>[{'id': 131, 'name': 'italy'}, {'id': 700, 'na...</td>\n",
       "      <td>In the continuing saga of the Corleone crime f...</td>\n",
       "      <td>/hek3koDUyRQk7FIhPXsa6mT2Zc3.jpg</td>\n",
       "      <td>102600000</td>\n",
       "      <td>102600000</td>\n",
       "      <td>55.752</td>\n",
       "      <td>8.6</td>\n",
       "      <td>10187</td>\n",
       "    </tr>\n",
       "    <tr>\n",
       "      <th>3</th>\n",
       "      <td>3</td>\n",
       "      <td>19404</td>\n",
       "      <td>Dilwale Dulhania Le Jayenge</td>\n",
       "      <td>[{'id': 35, 'name': 'Comedy'}, {'id': 18, 'nam...</td>\n",
       "      <td>1995-10-19</td>\n",
       "      <td>[]</td>\n",
       "      <td>Raj is a rich, carefree, happy-go-lucky second...</td>\n",
       "      <td>/2CAL2433ZeIihfX1Hb2139CX0pW.jpg</td>\n",
       "      <td>100000000</td>\n",
       "      <td>100000000</td>\n",
       "      <td>22.150</td>\n",
       "      <td>8.6</td>\n",
       "      <td>3927</td>\n",
       "    </tr>\n",
       "    <tr>\n",
       "      <th>4</th>\n",
       "      <td>4</td>\n",
       "      <td>424</td>\n",
       "      <td>Schindler's List</td>\n",
       "      <td>[{'id': 18, 'name': 'Drama'}, {'id': 36, 'name...</td>\n",
       "      <td>1993-12-15</td>\n",
       "      <td>[{'id': 818, 'name': 'based on novel or book'}...</td>\n",
       "      <td>The true story of how businessman Oskar Schind...</td>\n",
       "      <td>/sF1U4EUQS8YHUYjNl3pMGNIQyr0.jpg</td>\n",
       "      <td>321365567</td>\n",
       "      <td>321365567</td>\n",
       "      <td>53.542</td>\n",
       "      <td>8.6</td>\n",
       "      <td>13382</td>\n",
       "    </tr>\n",
       "  </tbody>\n",
       "</table>\n",
       "</div>"
      ],
      "text/plain": [
       "   Unnamed: 0  Movie_id                        title  \\\n",
       "0           0       238                The Godfather   \n",
       "1           1       278     The Shawshank Redemption   \n",
       "2           2       240        The Godfather Part II   \n",
       "3           3     19404  Dilwale Dulhania Le Jayenge   \n",
       "4           4       424             Schindler's List   \n",
       "\n",
       "                                              Genres release_date  \\\n",
       "0  [{'id': 18, 'name': 'Drama'}, {'id': 80, 'name...   1972-03-14   \n",
       "1  [{'id': 18, 'name': 'Drama'}, {'id': 80, 'name...   1994-09-23   \n",
       "2  [{'id': 18, 'name': 'Drama'}, {'id': 80, 'name...   1974-12-20   \n",
       "3  [{'id': 35, 'name': 'Comedy'}, {'id': 18, 'nam...   1995-10-19   \n",
       "4  [{'id': 18, 'name': 'Drama'}, {'id': 36, 'name...   1993-12-15   \n",
       "\n",
       "                                            Keywords  \\\n",
       "0  [{'id': 131, 'name': 'italy'}, {'id': 697, 'na...   \n",
       "1  [{'id': 378, 'name': 'prison'}, {'id': 417, 'n...   \n",
       "2  [{'id': 131, 'name': 'italy'}, {'id': 700, 'na...   \n",
       "3                                                 []   \n",
       "4  [{'id': 818, 'name': 'based on novel or book'}...   \n",
       "\n",
       "                                            overview  \\\n",
       "0  Spanning the years 1945 to 1955, a chronicle o...   \n",
       "1  Framed in the 1940s for the double murder of h...   \n",
       "2  In the continuing saga of the Corleone crime f...   \n",
       "3  Raj is a rich, carefree, happy-go-lucky second...   \n",
       "4  The true story of how businessman Oskar Schind...   \n",
       "\n",
       "                        poster_path     Budget    Revenue  popularity  \\\n",
       "0  /3bhkrj58Vtu7enYsRolD1fZdja1.jpg  245066411  245066411      93.552   \n",
       "1  /q6y0Go1tsGEsmtFryDOJo3dEmqu.jpg   28341469   28341469      78.664   \n",
       "2  /hek3koDUyRQk7FIhPXsa6mT2Zc3.jpg  102600000  102600000      55.752   \n",
       "3  /2CAL2433ZeIihfX1Hb2139CX0pW.jpg  100000000  100000000      22.150   \n",
       "4  /sF1U4EUQS8YHUYjNl3pMGNIQyr0.jpg  321365567  321365567      53.542   \n",
       "\n",
       "   vote_average  vote_count  \n",
       "0           8.7       16814  \n",
       "1           8.7       22542  \n",
       "2           8.6       10187  \n",
       "3           8.6        3927  \n",
       "4           8.6       13382  "
      ]
     },
     "execution_count": 14,
     "metadata": {},
     "output_type": "execute_result"
    }
   ],
   "source": [
    "movies.head(5)"
   ]
  },
  {
   "cell_type": "code",
   "execution_count": 15,
   "metadata": {},
   "outputs": [
    {
     "data": {
      "text/html": [
       "<div>\n",
       "<style scoped>\n",
       "    .dataframe tbody tr th:only-of-type {\n",
       "        vertical-align: middle;\n",
       "    }\n",
       "\n",
       "    .dataframe tbody tr th {\n",
       "        vertical-align: top;\n",
       "    }\n",
       "\n",
       "    .dataframe thead th {\n",
       "        text-align: right;\n",
       "    }\n",
       "</style>\n",
       "<table border=\"1\" class=\"dataframe\">\n",
       "  <thead>\n",
       "    <tr style=\"text-align: right;\">\n",
       "      <th></th>\n",
       "      <th>Unnamed: 0</th>\n",
       "      <th>Movie_id</th>\n",
       "      <th>title</th>\n",
       "      <th>Cast</th>\n",
       "      <th>Crew</th>\n",
       "    </tr>\n",
       "  </thead>\n",
       "  <tbody>\n",
       "    <tr>\n",
       "      <th>0</th>\n",
       "      <td>0</td>\n",
       "      <td>238</td>\n",
       "      <td>The Godfather</td>\n",
       "      <td>[{'adult': False, 'gender': 2, 'id': 3084, 'kn...</td>\n",
       "      <td>[{'adult': False, 'gender': 2, 'id': 154, 'kno...</td>\n",
       "    </tr>\n",
       "    <tr>\n",
       "      <th>1</th>\n",
       "      <td>1</td>\n",
       "      <td>278</td>\n",
       "      <td>The Shawshank Redemption</td>\n",
       "      <td>[{'adult': False, 'gender': 2, 'id': 504, 'kno...</td>\n",
       "      <td>[{'adult': False, 'gender': 2, 'id': 153, 'kno...</td>\n",
       "    </tr>\n",
       "    <tr>\n",
       "      <th>2</th>\n",
       "      <td>2</td>\n",
       "      <td>240</td>\n",
       "      <td>The Godfather Part II</td>\n",
       "      <td>[{'adult': False, 'gender': 2, 'id': 1158, 'kn...</td>\n",
       "      <td>[{'adult': False, 'gender': 2, 'id': 154, 'kno...</td>\n",
       "    </tr>\n",
       "    <tr>\n",
       "      <th>3</th>\n",
       "      <td>3</td>\n",
       "      <td>19404</td>\n",
       "      <td>Dilwale Dulhania Le Jayenge</td>\n",
       "      <td>[{'adult': False, 'gender': 2, 'id': 35742, 'k...</td>\n",
       "      <td>[{'adult': False, 'gender': 1, 'id': 8311, 'kn...</td>\n",
       "    </tr>\n",
       "    <tr>\n",
       "      <th>4</th>\n",
       "      <td>4</td>\n",
       "      <td>424</td>\n",
       "      <td>Schindler's List</td>\n",
       "      <td>[{'adult': False, 'gender': 2, 'id': 3896, 'kn...</td>\n",
       "      <td>[{'adult': False, 'gender': 2, 'id': 491, 'kno...</td>\n",
       "    </tr>\n",
       "  </tbody>\n",
       "</table>\n",
       "</div>"
      ],
      "text/plain": [
       "   Unnamed: 0  Movie_id                        title  \\\n",
       "0           0       238                The Godfather   \n",
       "1           1       278     The Shawshank Redemption   \n",
       "2           2       240        The Godfather Part II   \n",
       "3           3     19404  Dilwale Dulhania Le Jayenge   \n",
       "4           4       424             Schindler's List   \n",
       "\n",
       "                                                Cast  \\\n",
       "0  [{'adult': False, 'gender': 2, 'id': 3084, 'kn...   \n",
       "1  [{'adult': False, 'gender': 2, 'id': 504, 'kno...   \n",
       "2  [{'adult': False, 'gender': 2, 'id': 1158, 'kn...   \n",
       "3  [{'adult': False, 'gender': 2, 'id': 35742, 'k...   \n",
       "4  [{'adult': False, 'gender': 2, 'id': 3896, 'kn...   \n",
       "\n",
       "                                                Crew  \n",
       "0  [{'adult': False, 'gender': 2, 'id': 154, 'kno...  \n",
       "1  [{'adult': False, 'gender': 2, 'id': 153, 'kno...  \n",
       "2  [{'adult': False, 'gender': 2, 'id': 154, 'kno...  \n",
       "3  [{'adult': False, 'gender': 1, 'id': 8311, 'kn...  \n",
       "4  [{'adult': False, 'gender': 2, 'id': 491, 'kno...  "
      ]
     },
     "execution_count": 15,
     "metadata": {},
     "output_type": "execute_result"
    }
   ],
   "source": [
    "credits.head(5)"
   ]
  },
  {
   "cell_type": "code",
   "execution_count": 16,
   "metadata": {},
   "outputs": [
    {
     "data": {
      "text/plain": [
       "(9980, 13)"
      ]
     },
     "execution_count": 16,
     "metadata": {},
     "output_type": "execute_result"
    }
   ],
   "source": [
    "movies.shape"
   ]
  },
  {
   "cell_type": "code",
   "execution_count": 17,
   "metadata": {},
   "outputs": [
    {
     "data": {
      "text/plain": [
       "(9980, 5)"
      ]
     },
     "execution_count": 17,
     "metadata": {},
     "output_type": "execute_result"
    }
   ],
   "source": [
    "credits.shape"
   ]
  },
  {
   "cell_type": "code",
   "execution_count": 18,
   "metadata": {},
   "outputs": [],
   "source": [
    "movies = movies.merge(credits, on = 'title')"
   ]
  },
  {
   "cell_type": "code",
   "execution_count": 19,
   "metadata": {},
   "outputs": [
    {
     "data": {
      "text/html": [
       "<div>\n",
       "<style scoped>\n",
       "    .dataframe tbody tr th:only-of-type {\n",
       "        vertical-align: middle;\n",
       "    }\n",
       "\n",
       "    .dataframe tbody tr th {\n",
       "        vertical-align: top;\n",
       "    }\n",
       "\n",
       "    .dataframe thead th {\n",
       "        text-align: right;\n",
       "    }\n",
       "</style>\n",
       "<table border=\"1\" class=\"dataframe\">\n",
       "  <thead>\n",
       "    <tr style=\"text-align: right;\">\n",
       "      <th></th>\n",
       "      <th>Unnamed: 0_x</th>\n",
       "      <th>Movie_id_x</th>\n",
       "      <th>title</th>\n",
       "      <th>Genres</th>\n",
       "      <th>release_date</th>\n",
       "      <th>Keywords</th>\n",
       "      <th>overview</th>\n",
       "      <th>poster_path</th>\n",
       "      <th>Budget</th>\n",
       "      <th>Revenue</th>\n",
       "      <th>popularity</th>\n",
       "      <th>vote_average</th>\n",
       "      <th>vote_count</th>\n",
       "      <th>Unnamed: 0_y</th>\n",
       "      <th>Movie_id_y</th>\n",
       "      <th>Cast</th>\n",
       "      <th>Crew</th>\n",
       "    </tr>\n",
       "  </thead>\n",
       "  <tbody>\n",
       "    <tr>\n",
       "      <th>0</th>\n",
       "      <td>0</td>\n",
       "      <td>238</td>\n",
       "      <td>The Godfather</td>\n",
       "      <td>[{'id': 18, 'name': 'Drama'}, {'id': 80, 'name...</td>\n",
       "      <td>1972-03-14</td>\n",
       "      <td>[{'id': 131, 'name': 'italy'}, {'id': 697, 'na...</td>\n",
       "      <td>Spanning the years 1945 to 1955, a chronicle o...</td>\n",
       "      <td>/3bhkrj58Vtu7enYsRolD1fZdja1.jpg</td>\n",
       "      <td>245066411</td>\n",
       "      <td>245066411</td>\n",
       "      <td>93.552</td>\n",
       "      <td>8.7</td>\n",
       "      <td>16814</td>\n",
       "      <td>0</td>\n",
       "      <td>238</td>\n",
       "      <td>[{'adult': False, 'gender': 2, 'id': 3084, 'kn...</td>\n",
       "      <td>[{'adult': False, 'gender': 2, 'id': 154, 'kno...</td>\n",
       "    </tr>\n",
       "    <tr>\n",
       "      <th>1</th>\n",
       "      <td>1</td>\n",
       "      <td>278</td>\n",
       "      <td>The Shawshank Redemption</td>\n",
       "      <td>[{'id': 18, 'name': 'Drama'}, {'id': 80, 'name...</td>\n",
       "      <td>1994-09-23</td>\n",
       "      <td>[{'id': 378, 'name': 'prison'}, {'id': 417, 'n...</td>\n",
       "      <td>Framed in the 1940s for the double murder of h...</td>\n",
       "      <td>/q6y0Go1tsGEsmtFryDOJo3dEmqu.jpg</td>\n",
       "      <td>28341469</td>\n",
       "      <td>28341469</td>\n",
       "      <td>78.664</td>\n",
       "      <td>8.7</td>\n",
       "      <td>22542</td>\n",
       "      <td>1</td>\n",
       "      <td>278</td>\n",
       "      <td>[{'adult': False, 'gender': 2, 'id': 504, 'kno...</td>\n",
       "      <td>[{'adult': False, 'gender': 2, 'id': 153, 'kno...</td>\n",
       "    </tr>\n",
       "  </tbody>\n",
       "</table>\n",
       "</div>"
      ],
      "text/plain": [
       "   Unnamed: 0_x  Movie_id_x                     title  \\\n",
       "0             0         238             The Godfather   \n",
       "1             1         278  The Shawshank Redemption   \n",
       "\n",
       "                                              Genres release_date  \\\n",
       "0  [{'id': 18, 'name': 'Drama'}, {'id': 80, 'name...   1972-03-14   \n",
       "1  [{'id': 18, 'name': 'Drama'}, {'id': 80, 'name...   1994-09-23   \n",
       "\n",
       "                                            Keywords  \\\n",
       "0  [{'id': 131, 'name': 'italy'}, {'id': 697, 'na...   \n",
       "1  [{'id': 378, 'name': 'prison'}, {'id': 417, 'n...   \n",
       "\n",
       "                                            overview  \\\n",
       "0  Spanning the years 1945 to 1955, a chronicle o...   \n",
       "1  Framed in the 1940s for the double murder of h...   \n",
       "\n",
       "                        poster_path     Budget    Revenue  popularity  \\\n",
       "0  /3bhkrj58Vtu7enYsRolD1fZdja1.jpg  245066411  245066411      93.552   \n",
       "1  /q6y0Go1tsGEsmtFryDOJo3dEmqu.jpg   28341469   28341469      78.664   \n",
       "\n",
       "   vote_average  vote_count  Unnamed: 0_y  Movie_id_y  \\\n",
       "0           8.7       16814             0         238   \n",
       "1           8.7       22542             1         278   \n",
       "\n",
       "                                                Cast  \\\n",
       "0  [{'adult': False, 'gender': 2, 'id': 3084, 'kn...   \n",
       "1  [{'adult': False, 'gender': 2, 'id': 504, 'kno...   \n",
       "\n",
       "                                                Crew  \n",
       "0  [{'adult': False, 'gender': 2, 'id': 154, 'kno...  \n",
       "1  [{'adult': False, 'gender': 2, 'id': 153, 'kno...  "
      ]
     },
     "execution_count": 19,
     "metadata": {},
     "output_type": "execute_result"
    }
   ],
   "source": [
    "movies.head(2)"
   ]
  },
  {
   "cell_type": "code",
   "execution_count": 20,
   "metadata": {},
   "outputs": [
    {
     "data": {
      "text/plain": [
       "(10710, 17)"
      ]
     },
     "execution_count": 20,
     "metadata": {},
     "output_type": "execute_result"
    }
   ],
   "source": [
    "movies.shape"
   ]
  },
  {
   "cell_type": "code",
   "execution_count": 23,
   "metadata": {},
   "outputs": [],
   "source": [
    "movies = movies[['Movie_id_x','title','overview','Genres','Keywords','Cast','Crew']]"
   ]
  },
  {
   "cell_type": "code",
   "execution_count": 24,
   "metadata": {},
   "outputs": [
    {
     "data": {
      "text/html": [
       "<div>\n",
       "<style scoped>\n",
       "    .dataframe tbody tr th:only-of-type {\n",
       "        vertical-align: middle;\n",
       "    }\n",
       "\n",
       "    .dataframe tbody tr th {\n",
       "        vertical-align: top;\n",
       "    }\n",
       "\n",
       "    .dataframe thead th {\n",
       "        text-align: right;\n",
       "    }\n",
       "</style>\n",
       "<table border=\"1\" class=\"dataframe\">\n",
       "  <thead>\n",
       "    <tr style=\"text-align: right;\">\n",
       "      <th></th>\n",
       "      <th>Movie_id_x</th>\n",
       "      <th>title</th>\n",
       "      <th>overview</th>\n",
       "      <th>Genres</th>\n",
       "      <th>Keywords</th>\n",
       "      <th>Cast</th>\n",
       "      <th>Crew</th>\n",
       "    </tr>\n",
       "  </thead>\n",
       "  <tbody>\n",
       "    <tr>\n",
       "      <th>0</th>\n",
       "      <td>238</td>\n",
       "      <td>The Godfather</td>\n",
       "      <td>Spanning the years 1945 to 1955, a chronicle o...</td>\n",
       "      <td>[{'id': 18, 'name': 'Drama'}, {'id': 80, 'name...</td>\n",
       "      <td>[{'id': 131, 'name': 'italy'}, {'id': 697, 'na...</td>\n",
       "      <td>[{'adult': False, 'gender': 2, 'id': 3084, 'kn...</td>\n",
       "      <td>[{'adult': False, 'gender': 2, 'id': 154, 'kno...</td>\n",
       "    </tr>\n",
       "    <tr>\n",
       "      <th>1</th>\n",
       "      <td>278</td>\n",
       "      <td>The Shawshank Redemption</td>\n",
       "      <td>Framed in the 1940s for the double murder of h...</td>\n",
       "      <td>[{'id': 18, 'name': 'Drama'}, {'id': 80, 'name...</td>\n",
       "      <td>[{'id': 378, 'name': 'prison'}, {'id': 417, 'n...</td>\n",
       "      <td>[{'adult': False, 'gender': 2, 'id': 504, 'kno...</td>\n",
       "      <td>[{'adult': False, 'gender': 2, 'id': 153, 'kno...</td>\n",
       "    </tr>\n",
       "    <tr>\n",
       "      <th>2</th>\n",
       "      <td>240</td>\n",
       "      <td>The Godfather Part II</td>\n",
       "      <td>In the continuing saga of the Corleone crime f...</td>\n",
       "      <td>[{'id': 18, 'name': 'Drama'}, {'id': 80, 'name...</td>\n",
       "      <td>[{'id': 131, 'name': 'italy'}, {'id': 700, 'na...</td>\n",
       "      <td>[{'adult': False, 'gender': 2, 'id': 1158, 'kn...</td>\n",
       "      <td>[{'adult': False, 'gender': 2, 'id': 154, 'kno...</td>\n",
       "    </tr>\n",
       "    <tr>\n",
       "      <th>3</th>\n",
       "      <td>19404</td>\n",
       "      <td>Dilwale Dulhania Le Jayenge</td>\n",
       "      <td>Raj is a rich, carefree, happy-go-lucky second...</td>\n",
       "      <td>[{'id': 35, 'name': 'Comedy'}, {'id': 18, 'nam...</td>\n",
       "      <td>[]</td>\n",
       "      <td>[{'adult': False, 'gender': 2, 'id': 35742, 'k...</td>\n",
       "      <td>[{'adult': False, 'gender': 1, 'id': 8311, 'kn...</td>\n",
       "    </tr>\n",
       "    <tr>\n",
       "      <th>4</th>\n",
       "      <td>424</td>\n",
       "      <td>Schindler's List</td>\n",
       "      <td>The true story of how businessman Oskar Schind...</td>\n",
       "      <td>[{'id': 18, 'name': 'Drama'}, {'id': 36, 'name...</td>\n",
       "      <td>[{'id': 818, 'name': 'based on novel or book'}...</td>\n",
       "      <td>[{'adult': False, 'gender': 2, 'id': 3896, 'kn...</td>\n",
       "      <td>[{'adult': False, 'gender': 2, 'id': 491, 'kno...</td>\n",
       "    </tr>\n",
       "  </tbody>\n",
       "</table>\n",
       "</div>"
      ],
      "text/plain": [
       "   Movie_id_x                        title  \\\n",
       "0         238                The Godfather   \n",
       "1         278     The Shawshank Redemption   \n",
       "2         240        The Godfather Part II   \n",
       "3       19404  Dilwale Dulhania Le Jayenge   \n",
       "4         424             Schindler's List   \n",
       "\n",
       "                                            overview  \\\n",
       "0  Spanning the years 1945 to 1955, a chronicle o...   \n",
       "1  Framed in the 1940s for the double murder of h...   \n",
       "2  In the continuing saga of the Corleone crime f...   \n",
       "3  Raj is a rich, carefree, happy-go-lucky second...   \n",
       "4  The true story of how businessman Oskar Schind...   \n",
       "\n",
       "                                              Genres  \\\n",
       "0  [{'id': 18, 'name': 'Drama'}, {'id': 80, 'name...   \n",
       "1  [{'id': 18, 'name': 'Drama'}, {'id': 80, 'name...   \n",
       "2  [{'id': 18, 'name': 'Drama'}, {'id': 80, 'name...   \n",
       "3  [{'id': 35, 'name': 'Comedy'}, {'id': 18, 'nam...   \n",
       "4  [{'id': 18, 'name': 'Drama'}, {'id': 36, 'name...   \n",
       "\n",
       "                                            Keywords  \\\n",
       "0  [{'id': 131, 'name': 'italy'}, {'id': 697, 'na...   \n",
       "1  [{'id': 378, 'name': 'prison'}, {'id': 417, 'n...   \n",
       "2  [{'id': 131, 'name': 'italy'}, {'id': 700, 'na...   \n",
       "3                                                 []   \n",
       "4  [{'id': 818, 'name': 'based on novel or book'}...   \n",
       "\n",
       "                                                Cast  \\\n",
       "0  [{'adult': False, 'gender': 2, 'id': 3084, 'kn...   \n",
       "1  [{'adult': False, 'gender': 2, 'id': 504, 'kno...   \n",
       "2  [{'adult': False, 'gender': 2, 'id': 1158, 'kn...   \n",
       "3  [{'adult': False, 'gender': 2, 'id': 35742, 'k...   \n",
       "4  [{'adult': False, 'gender': 2, 'id': 3896, 'kn...   \n",
       "\n",
       "                                                Crew  \n",
       "0  [{'adult': False, 'gender': 2, 'id': 154, 'kno...  \n",
       "1  [{'adult': False, 'gender': 2, 'id': 153, 'kno...  \n",
       "2  [{'adult': False, 'gender': 2, 'id': 154, 'kno...  \n",
       "3  [{'adult': False, 'gender': 1, 'id': 8311, 'kn...  \n",
       "4  [{'adult': False, 'gender': 2, 'id': 491, 'kno...  "
      ]
     },
     "execution_count": 24,
     "metadata": {},
     "output_type": "execute_result"
    }
   ],
   "source": [
    "movies.head()"
   ]
  },
  {
   "cell_type": "code",
   "execution_count": 25,
   "metadata": {},
   "outputs": [
    {
     "data": {
      "text/plain": [
       "(10710, 7)"
      ]
     },
     "execution_count": 25,
     "metadata": {},
     "output_type": "execute_result"
    }
   ],
   "source": [
    "movies.shape"
   ]
  },
  {
   "cell_type": "code",
   "execution_count": 26,
   "metadata": {},
   "outputs": [
    {
     "data": {
      "text/plain": [
       "Movie_id_x    0\n",
       "title         0\n",
       "overview      6\n",
       "Genres        0\n",
       "Keywords      0\n",
       "Cast          0\n",
       "Crew          0\n",
       "dtype: int64"
      ]
     },
     "execution_count": 26,
     "metadata": {},
     "output_type": "execute_result"
    }
   ],
   "source": [
    "movies.isnull().sum()"
   ]
  },
  {
   "cell_type": "code",
   "execution_count": 27,
   "metadata": {},
   "outputs": [
    {
     "name": "stderr",
     "output_type": "stream",
     "text": [
      "C:\\Users\\shilp\\AppData\\Local\\Temp\\ipykernel_12624\\3786870272.py:1: SettingWithCopyWarning: \n",
      "A value is trying to be set on a copy of a slice from a DataFrame\n",
      "\n",
      "See the caveats in the documentation: https://pandas.pydata.org/pandas-docs/stable/user_guide/indexing.html#returning-a-view-versus-a-copy\n",
      "  movies.dropna(inplace=True)\n"
     ]
    }
   ],
   "source": [
    "movies.dropna(inplace=True)"
   ]
  },
  {
   "cell_type": "code",
   "execution_count": 28,
   "metadata": {},
   "outputs": [
    {
     "data": {
      "text/plain": [
       "0"
      ]
     },
     "execution_count": 28,
     "metadata": {},
     "output_type": "execute_result"
    }
   ],
   "source": [
    "movies.duplicated().sum()"
   ]
  },
  {
   "cell_type": "code",
   "execution_count": 30,
   "metadata": {},
   "outputs": [
    {
     "data": {
      "text/plain": [
       "\"[{'id': 18, 'name': 'Drama'}, {'id': 80, 'name': 'Crime'}]\""
      ]
     },
     "execution_count": 30,
     "metadata": {},
     "output_type": "execute_result"
    }
   ],
   "source": [
    "movies.iloc[0]['Genres']"
   ]
  },
  {
   "cell_type": "code",
   "execution_count": 31,
   "metadata": {},
   "outputs": [],
   "source": [
    "import ast\n",
    "def convert(text):\n",
    "    L = []\n",
    "    for i in ast.literal_eval(text):\n",
    "        L.append(i['name']) \n",
    "    return L"
   ]
  },
  {
   "cell_type": "code",
   "execution_count": 32,
   "metadata": {},
   "outputs": [
    {
     "name": "stderr",
     "output_type": "stream",
     "text": [
      "C:\\Users\\shilp\\AppData\\Local\\Temp\\ipykernel_12624\\4176851262.py:1: SettingWithCopyWarning: \n",
      "A value is trying to be set on a copy of a slice from a DataFrame.\n",
      "Try using .loc[row_indexer,col_indexer] = value instead\n",
      "\n",
      "See the caveats in the documentation: https://pandas.pydata.org/pandas-docs/stable/user_guide/indexing.html#returning-a-view-versus-a-copy\n",
      "  movies['Genres'] = movies['Genres'].apply(convert)\n"
     ]
    }
   ],
   "source": [
    "movies['Genres'] = movies['Genres'].apply(convert)"
   ]
  },
  {
   "cell_type": "code",
   "execution_count": 33,
   "metadata": {},
   "outputs": [
    {
     "data": {
      "text/html": [
       "<div>\n",
       "<style scoped>\n",
       "    .dataframe tbody tr th:only-of-type {\n",
       "        vertical-align: middle;\n",
       "    }\n",
       "\n",
       "    .dataframe tbody tr th {\n",
       "        vertical-align: top;\n",
       "    }\n",
       "\n",
       "    .dataframe thead th {\n",
       "        text-align: right;\n",
       "    }\n",
       "</style>\n",
       "<table border=\"1\" class=\"dataframe\">\n",
       "  <thead>\n",
       "    <tr style=\"text-align: right;\">\n",
       "      <th></th>\n",
       "      <th>Movie_id_x</th>\n",
       "      <th>title</th>\n",
       "      <th>overview</th>\n",
       "      <th>Genres</th>\n",
       "      <th>Keywords</th>\n",
       "      <th>Cast</th>\n",
       "      <th>Crew</th>\n",
       "    </tr>\n",
       "  </thead>\n",
       "  <tbody>\n",
       "    <tr>\n",
       "      <th>0</th>\n",
       "      <td>238</td>\n",
       "      <td>The Godfather</td>\n",
       "      <td>Spanning the years 1945 to 1955, a chronicle o...</td>\n",
       "      <td>[Drama, Crime]</td>\n",
       "      <td>[{'id': 131, 'name': 'italy'}, {'id': 697, 'na...</td>\n",
       "      <td>[{'adult': False, 'gender': 2, 'id': 3084, 'kn...</td>\n",
       "      <td>[{'adult': False, 'gender': 2, 'id': 154, 'kno...</td>\n",
       "    </tr>\n",
       "    <tr>\n",
       "      <th>1</th>\n",
       "      <td>278</td>\n",
       "      <td>The Shawshank Redemption</td>\n",
       "      <td>Framed in the 1940s for the double murder of h...</td>\n",
       "      <td>[Drama, Crime]</td>\n",
       "      <td>[{'id': 378, 'name': 'prison'}, {'id': 417, 'n...</td>\n",
       "      <td>[{'adult': False, 'gender': 2, 'id': 504, 'kno...</td>\n",
       "      <td>[{'adult': False, 'gender': 2, 'id': 153, 'kno...</td>\n",
       "    </tr>\n",
       "    <tr>\n",
       "      <th>2</th>\n",
       "      <td>240</td>\n",
       "      <td>The Godfather Part II</td>\n",
       "      <td>In the continuing saga of the Corleone crime f...</td>\n",
       "      <td>[Drama, Crime]</td>\n",
       "      <td>[{'id': 131, 'name': 'italy'}, {'id': 700, 'na...</td>\n",
       "      <td>[{'adult': False, 'gender': 2, 'id': 1158, 'kn...</td>\n",
       "      <td>[{'adult': False, 'gender': 2, 'id': 154, 'kno...</td>\n",
       "    </tr>\n",
       "    <tr>\n",
       "      <th>3</th>\n",
       "      <td>19404</td>\n",
       "      <td>Dilwale Dulhania Le Jayenge</td>\n",
       "      <td>Raj is a rich, carefree, happy-go-lucky second...</td>\n",
       "      <td>[Comedy, Drama, Romance]</td>\n",
       "      <td>[]</td>\n",
       "      <td>[{'adult': False, 'gender': 2, 'id': 35742, 'k...</td>\n",
       "      <td>[{'adult': False, 'gender': 1, 'id': 8311, 'kn...</td>\n",
       "    </tr>\n",
       "    <tr>\n",
       "      <th>4</th>\n",
       "      <td>424</td>\n",
       "      <td>Schindler's List</td>\n",
       "      <td>The true story of how businessman Oskar Schind...</td>\n",
       "      <td>[Drama, History, War]</td>\n",
       "      <td>[{'id': 818, 'name': 'based on novel or book'}...</td>\n",
       "      <td>[{'adult': False, 'gender': 2, 'id': 3896, 'kn...</td>\n",
       "      <td>[{'adult': False, 'gender': 2, 'id': 491, 'kno...</td>\n",
       "    </tr>\n",
       "  </tbody>\n",
       "</table>\n",
       "</div>"
      ],
      "text/plain": [
       "   Movie_id_x                        title  \\\n",
       "0         238                The Godfather   \n",
       "1         278     The Shawshank Redemption   \n",
       "2         240        The Godfather Part II   \n",
       "3       19404  Dilwale Dulhania Le Jayenge   \n",
       "4         424             Schindler's List   \n",
       "\n",
       "                                            overview  \\\n",
       "0  Spanning the years 1945 to 1955, a chronicle o...   \n",
       "1  Framed in the 1940s for the double murder of h...   \n",
       "2  In the continuing saga of the Corleone crime f...   \n",
       "3  Raj is a rich, carefree, happy-go-lucky second...   \n",
       "4  The true story of how businessman Oskar Schind...   \n",
       "\n",
       "                     Genres  \\\n",
       "0            [Drama, Crime]   \n",
       "1            [Drama, Crime]   \n",
       "2            [Drama, Crime]   \n",
       "3  [Comedy, Drama, Romance]   \n",
       "4     [Drama, History, War]   \n",
       "\n",
       "                                            Keywords  \\\n",
       "0  [{'id': 131, 'name': 'italy'}, {'id': 697, 'na...   \n",
       "1  [{'id': 378, 'name': 'prison'}, {'id': 417, 'n...   \n",
       "2  [{'id': 131, 'name': 'italy'}, {'id': 700, 'na...   \n",
       "3                                                 []   \n",
       "4  [{'id': 818, 'name': 'based on novel or book'}...   \n",
       "\n",
       "                                                Cast  \\\n",
       "0  [{'adult': False, 'gender': 2, 'id': 3084, 'kn...   \n",
       "1  [{'adult': False, 'gender': 2, 'id': 504, 'kno...   \n",
       "2  [{'adult': False, 'gender': 2, 'id': 1158, 'kn...   \n",
       "3  [{'adult': False, 'gender': 2, 'id': 35742, 'k...   \n",
       "4  [{'adult': False, 'gender': 2, 'id': 3896, 'kn...   \n",
       "\n",
       "                                                Crew  \n",
       "0  [{'adult': False, 'gender': 2, 'id': 154, 'kno...  \n",
       "1  [{'adult': False, 'gender': 2, 'id': 153, 'kno...  \n",
       "2  [{'adult': False, 'gender': 2, 'id': 154, 'kno...  \n",
       "3  [{'adult': False, 'gender': 1, 'id': 8311, 'kn...  \n",
       "4  [{'adult': False, 'gender': 2, 'id': 491, 'kno...  "
      ]
     },
     "execution_count": 33,
     "metadata": {},
     "output_type": "execute_result"
    }
   ],
   "source": [
    "movies.head()"
   ]
  },
  {
   "cell_type": "code",
   "execution_count": 35,
   "metadata": {},
   "outputs": [
    {
     "data": {
      "text/plain": [
       "\"[{'id': 131, 'name': 'italy'}, {'id': 697, 'name': 'loss of loved one'}, {'id': 699, 'name': 'love at first sight'}, {'id': 818, 'name': 'based on novel or book'}, {'id': 1295, 'name': 'europe'}, {'id': 1715, 'name': 'symbolism'}, {'id': 4677, 'name': 'patriarch'}, {'id': 10291, 'name': 'organized crime'}, {'id': 10391, 'name': 'mafia'}, {'id': 10909, 'name': 'lawyer'}, {'id': 11001, 'name': 'religion'}, {'id': 15095, 'name': 'revenge motive'}, {'id': 33421, 'name': 'crime family'}, {'id': 155538, 'name': 'sicilian mafia'}, {'id': 156043, 'name': 'religious hypocrisy'}, {'id': 163656, 'name': 'gun violence'}, {'id': 165725, 'name': 'rise to power'}, {'id': 180173, 'name': 'dead horse'}, {'id': 181858, 'name': 'gang violence'}, {'id': 207883, 'name': '1940s'}, {'id': 208611, 'name': '1950s'}, {'id': 257630, 'name': 'mafia war'}, {'id': 295351, 'name': 'part of trilogy'}]\""
      ]
     },
     "execution_count": 35,
     "metadata": {},
     "output_type": "execute_result"
    }
   ],
   "source": [
    "movies.iloc[0]['Keywords']"
   ]
  },
  {
   "cell_type": "code",
   "execution_count": 37,
   "metadata": {},
   "outputs": [
    {
     "data": {
      "text/html": [
       "<div>\n",
       "<style scoped>\n",
       "    .dataframe tbody tr th:only-of-type {\n",
       "        vertical-align: middle;\n",
       "    }\n",
       "\n",
       "    .dataframe tbody tr th {\n",
       "        vertical-align: top;\n",
       "    }\n",
       "\n",
       "    .dataframe thead th {\n",
       "        text-align: right;\n",
       "    }\n",
       "</style>\n",
       "<table border=\"1\" class=\"dataframe\">\n",
       "  <thead>\n",
       "    <tr style=\"text-align: right;\">\n",
       "      <th></th>\n",
       "      <th>Movie_id_x</th>\n",
       "      <th>title</th>\n",
       "      <th>overview</th>\n",
       "      <th>Genres</th>\n",
       "      <th>Keywords</th>\n",
       "      <th>Cast</th>\n",
       "      <th>Crew</th>\n",
       "    </tr>\n",
       "  </thead>\n",
       "  <tbody>\n",
       "    <tr>\n",
       "      <th>0</th>\n",
       "      <td>238</td>\n",
       "      <td>The Godfather</td>\n",
       "      <td>Spanning the years 1945 to 1955, a chronicle o...</td>\n",
       "      <td>[Drama, Crime]</td>\n",
       "      <td>[italy, loss of loved one, love at first sight...</td>\n",
       "      <td>[{'adult': False, 'gender': 2, 'id': 3084, 'kn...</td>\n",
       "      <td>[{'adult': False, 'gender': 2, 'id': 154, 'kno...</td>\n",
       "    </tr>\n",
       "    <tr>\n",
       "      <th>1</th>\n",
       "      <td>278</td>\n",
       "      <td>The Shawshank Redemption</td>\n",
       "      <td>Framed in the 1940s for the double murder of h...</td>\n",
       "      <td>[Drama, Crime]</td>\n",
       "      <td>[prison, corruption, police brutality, based o...</td>\n",
       "      <td>[{'adult': False, 'gender': 2, 'id': 504, 'kno...</td>\n",
       "      <td>[{'adult': False, 'gender': 2, 'id': 153, 'kno...</td>\n",
       "    </tr>\n",
       "    <tr>\n",
       "      <th>2</th>\n",
       "      <td>240</td>\n",
       "      <td>The Godfather Part II</td>\n",
       "      <td>In the continuing saga of the Corleone crime f...</td>\n",
       "      <td>[Drama, Crime]</td>\n",
       "      <td>[italy, italian american, cuba, symbolism, gan...</td>\n",
       "      <td>[{'adult': False, 'gender': 2, 'id': 1158, 'kn...</td>\n",
       "      <td>[{'adult': False, 'gender': 2, 'id': 154, 'kno...</td>\n",
       "    </tr>\n",
       "    <tr>\n",
       "      <th>3</th>\n",
       "      <td>19404</td>\n",
       "      <td>Dilwale Dulhania Le Jayenge</td>\n",
       "      <td>Raj is a rich, carefree, happy-go-lucky second...</td>\n",
       "      <td>[Comedy, Drama, Romance]</td>\n",
       "      <td>[]</td>\n",
       "      <td>[{'adult': False, 'gender': 2, 'id': 35742, 'k...</td>\n",
       "      <td>[{'adult': False, 'gender': 1, 'id': 8311, 'kn...</td>\n",
       "    </tr>\n",
       "    <tr>\n",
       "      <th>4</th>\n",
       "      <td>424</td>\n",
       "      <td>Schindler's List</td>\n",
       "      <td>The true story of how businessman Oskar Schind...</td>\n",
       "      <td>[Drama, History, War]</td>\n",
       "      <td>[based on novel or book, factory, concentratio...</td>\n",
       "      <td>[{'adult': False, 'gender': 2, 'id': 3896, 'kn...</td>\n",
       "      <td>[{'adult': False, 'gender': 2, 'id': 491, 'kno...</td>\n",
       "    </tr>\n",
       "  </tbody>\n",
       "</table>\n",
       "</div>"
      ],
      "text/plain": [
       "   Movie_id_x                        title  \\\n",
       "0         238                The Godfather   \n",
       "1         278     The Shawshank Redemption   \n",
       "2         240        The Godfather Part II   \n",
       "3       19404  Dilwale Dulhania Le Jayenge   \n",
       "4         424             Schindler's List   \n",
       "\n",
       "                                            overview  \\\n",
       "0  Spanning the years 1945 to 1955, a chronicle o...   \n",
       "1  Framed in the 1940s for the double murder of h...   \n",
       "2  In the continuing saga of the Corleone crime f...   \n",
       "3  Raj is a rich, carefree, happy-go-lucky second...   \n",
       "4  The true story of how businessman Oskar Schind...   \n",
       "\n",
       "                     Genres  \\\n",
       "0            [Drama, Crime]   \n",
       "1            [Drama, Crime]   \n",
       "2            [Drama, Crime]   \n",
       "3  [Comedy, Drama, Romance]   \n",
       "4     [Drama, History, War]   \n",
       "\n",
       "                                            Keywords  \\\n",
       "0  [italy, loss of loved one, love at first sight...   \n",
       "1  [prison, corruption, police brutality, based o...   \n",
       "2  [italy, italian american, cuba, symbolism, gan...   \n",
       "3                                                 []   \n",
       "4  [based on novel or book, factory, concentratio...   \n",
       "\n",
       "                                                Cast  \\\n",
       "0  [{'adult': False, 'gender': 2, 'id': 3084, 'kn...   \n",
       "1  [{'adult': False, 'gender': 2, 'id': 504, 'kno...   \n",
       "2  [{'adult': False, 'gender': 2, 'id': 1158, 'kn...   \n",
       "3  [{'adult': False, 'gender': 2, 'id': 35742, 'k...   \n",
       "4  [{'adult': False, 'gender': 2, 'id': 3896, 'kn...   \n",
       "\n",
       "                                                Crew  \n",
       "0  [{'adult': False, 'gender': 2, 'id': 154, 'kno...  \n",
       "1  [{'adult': False, 'gender': 2, 'id': 153, 'kno...  \n",
       "2  [{'adult': False, 'gender': 2, 'id': 154, 'kno...  \n",
       "3  [{'adult': False, 'gender': 1, 'id': 8311, 'kn...  \n",
       "4  [{'adult': False, 'gender': 2, 'id': 491, 'kno...  "
      ]
     },
     "execution_count": 37,
     "metadata": {},
     "output_type": "execute_result"
    }
   ],
   "source": [
    "movies['Keywords'] = movies['Keywords'].apply(convert)\n",
    "movies.head()"
   ]
  },
  {
   "cell_type": "code",
   "execution_count": 39,
   "metadata": {},
   "outputs": [
    {
     "data": {
      "text/plain": [
       "'[{\\'adult\\': False, \\'gender\\': 2, \\'id\\': 3084, \\'known_for_department\\': \\'Acting\\', \\'name\\': \\'Marlon Brando\\', \\'original_name\\': \\'Marlon Brando\\', \\'popularity\\': 15.274, \\'profile_path\\': \\'/fuTEPMsBtV1zE98ujPONbKiYDc2.jpg\\', \\'cast_id\\': 5, \\'character\\': \\'Don Vito Corleone\\', \\'credit_id\\': \\'52fe422bc3a36847f8009357\\', \\'order\\': 0}, {\\'adult\\': False, \\'gender\\': 2, \\'id\\': 1158, \\'known_for_department\\': \\'Acting\\', \\'name\\': \\'Al Pacino\\', \\'original_name\\': \\'Al Pacino\\', \\'popularity\\': 32.169, \\'profile_path\\': \\'/fMDFeVf0pjopTJbyRSLFwNDm8Wr.jpg\\', \\'cast_id\\': 6, \\'character\\': \\'Don Michael Corleone\\', \\'credit_id\\': \\'52fe422bc3a36847f800935b\\', \\'order\\': 1}, {\\'adult\\': False, \\'gender\\': 2, \\'id\\': 3085, \\'known_for_department\\': \\'Acting\\', \\'name\\': \\'James Caan\\', \\'original_name\\': \\'James Caan\\', \\'popularity\\': 23.916, \\'profile_path\\': \\'/bGyOCCOIgcIyKjOGLoXoyp0XWHf.jpg\\', \\'cast_id\\': 7, \\'character\\': \"Santino \\'Sonny\\' Corleone\", \\'credit_id\\': \\'52fe422bc3a36847f800935f\\', \\'order\\': 2}, {\\'adult\\': False, \\'gender\\': 2, \\'id\\': 3087, \\'known_for_department\\': \\'Acting\\', \\'name\\': \\'Robert Duvall\\', \\'original_name\\': \\'Robert Duvall\\', \\'popularity\\': 24.079, \\'profile_path\\': \\'/ybMmK25h4IVtfE7qrnlVp47RQlh.jpg\\', \\'cast_id\\': 9, \\'character\\': \\'Tom Hagen\\', \\'credit_id\\': \\'52fe422bc3a36847f8009367\\', \\'order\\': 3}, {\\'adult\\': False, \\'gender\\': 0, \\'id\\': 3086, \\'known_for_department\\': \\'Acting\\', \\'name\\': \\'Richard S. Castellano\\', \\'original_name\\': \\'Richard S. Castellano\\', \\'popularity\\': 10.388, \\'profile_path\\': \\'/1vr75BdHWret81vuSJ3ugiCBkxw.jpg\\', \\'cast_id\\': 8, \\'character\\': \\'Pete Clemenza\\', \\'credit_id\\': \\'52fe422bc3a36847f8009363\\', \\'order\\': 4}, {\\'adult\\': False, \\'gender\\': 1, \\'id\\': 3092, \\'known_for_department\\': \\'Acting\\', \\'name\\': \\'Diane Keaton\\', \\'original_name\\': \\'Diane Keaton\\', \\'popularity\\': 21.404, \\'profile_path\\': \\'/7gEdH5vGwpUpogscTb2JivnoRBb.jpg\\', \\'cast_id\\': 13, \\'character\\': \\'Kay Adams\\', \\'credit_id\\': \\'52fe422bc3a36847f8009377\\', \\'order\\': 5}, {\\'adult\\': False, \\'gender\\': 1, \\'id\\': 3094, \\'known_for_department\\': \\'Acting\\', \\'name\\': \\'Talia Shire\\', \\'original_name\\': \\'Talia Shire\\', \\'popularity\\': 14.677, \\'profile_path\\': \\'/due9MtmbvCMDd1aNveuMyjsaZ8W.jpg\\', \\'cast_id\\': 15, \\'character\\': \"Constanzia \\'Connie\\' Corleone-Rizzi\", \\'credit_id\\': \\'52fe422bc3a36847f800937f\\', \\'order\\': 6}, {\\'adult\\': False, \\'gender\\': 2, \\'id\\': 3095, \\'known_for_department\\': \\'Acting\\', \\'name\\': \\'Gianni Russo\\', \\'original_name\\': \\'Gianni Russo\\', \\'popularity\\': 8.099, \\'profile_path\\': \\'/5fjg2WPvuk1NvUpLyQ7aMJqOqy.jpg\\', \\'cast_id\\': 16, \\'character\\': \\'Carlo Rizzi\\', \\'credit_id\\': \\'52fe422bc3a36847f8009383\\', \\'order\\': 7}, {\\'adult\\': False, \\'gender\\': 2, \\'id\\': 3088, \\'known_for_department\\': \\'Acting\\', \\'name\\': \\'Sterling Hayden\\', \\'original_name\\': \\'Sterling Hayden\\', \\'popularity\\': 12.446, \\'profile_path\\': \\'/j1ExJbuBqBa6WEhPVW4J7YGFBWs.jpg\\', \\'cast_id\\': 10, \\'character\\': \\'Capt. Mark McCluskey\\', \\'credit_id\\': \\'52fe422bc3a36847f800936b\\', \\'order\\': 8}, {\\'adult\\': False, \\'gender\\': 2, \\'id\\': 3091, \\'known_for_department\\': \\'Acting\\', \\'name\\': \\'Al Lettieri\\', \\'original_name\\': \\'Al Lettieri\\', \\'popularity\\': 8.127, \\'profile_path\\': \\'/fE5mEWPkkVJlCji0EoKht8PYw89.jpg\\', \\'cast_id\\': 12, \\'character\\': \"Virgil \\'The Turk\\' Sollozzo\", \\'credit_id\\': \\'52fe422bc3a36847f8009373\\', \\'order\\': 9}, {\\'adult\\': False, \\'gender\\': 2, \\'id\\': 3093, \\'known_for_department\\': \\'Acting\\', \\'name\\': \\'Abe Vigoda\\', \\'original_name\\': \\'Abe Vigoda\\', \\'popularity\\': 6.822, \\'profile_path\\': \\'/luWKPNb58IgJ2ovrtgPAzHGLLYL.jpg\\', \\'cast_id\\': 14, \\'character\\': \"Salvatore \\'Sal\\' Tessio\", \\'credit_id\\': \\'52fe422bc3a36847f800937b\\', \\'order\\': 10}, {\\'adult\\': False, \\'gender\\': 2, \\'id\\': 3096, \\'known_for_department\\': \\'Acting\\', \\'name\\': \\'John Cazale\\', \\'original_name\\': \\'John Cazale\\', \\'popularity\\': 10.158, \\'profile_path\\': \\'/tRBImYIYk9tuR4fjJc8gHXC8ENj.jpg\\', \\'cast_id\\': 17, \\'character\\': \"Frederico \\'Fredo\\' Corleone\", \\'credit_id\\': \\'52fe422bc3a36847f8009387\\', \\'order\\': 11}, {\\'adult\\': False, \\'gender\\': 2, \\'id\\': 3090, \\'known_for_department\\': \\'Acting\\', \\'name\\': \\'Richard Conte\\', \\'original_name\\': \\'Richard Conte\\', \\'popularity\\': 9.971, \\'profile_path\\': \\'/pTTzNets0bgWAqx18D7by0hWUea.jpg\\', \\'cast_id\\': 11, \\'character\\': \\'Don Emilio Barzini\\', \\'credit_id\\': \\'52fe422bc3a36847f800936f\\', \\'order\\': 12}, {\\'adult\\': False, \\'gender\\': 2, \\'id\\': 3142, \\'known_for_department\\': \\'Acting\\', \\'name\\': \\'John Marley\\', \\'original_name\\': \\'John Marley\\', \\'popularity\\': 2.497, \\'profile_path\\': None, \\'cast_id\\': 33, \\'character\\': \\'Jack Woltz\\', \\'credit_id\\': \\'52fe422bc3a36847f800938b\\', \\'order\\': 13}, {\\'adult\\': False, \\'gender\\': 2, \\'id\\': 3143, \\'known_for_department\\': \\'Acting\\', \\'name\\': \\'Rudy Bond\\', \\'original_name\\': \\'Rudy Bond\\', \\'popularity\\': 1.948, \\'profile_path\\': \\'/kP77m6ot9dfOR2V3ykbyOAx2diK.jpg\\', \\'cast_id\\': 34, \\'character\\': \\'Carmine Cuneo\\', \\'credit_id\\': \\'52fe422bc3a36847f800938f\\', \\'order\\': 14}, {\\'adult\\': False, \\'gender\\': 2, \\'id\\': 3144, \\'known_for_department\\': \\'Acting\\', \\'name\\': \\'Al Martino\\', \\'original_name\\': \\'Al Martino\\', \\'popularity\\': 2.803, \\'profile_path\\': \\'/9luOyyiqWFNQgSOSStH66LTWZ3p.jpg\\', \\'cast_id\\': 35, \\'character\\': \\'Johnny Fontane\\', \\'credit_id\\': \\'52fe422bc3a36847f8009393\\', \\'order\\': 15}, {\\'adult\\': False, \\'gender\\': 1, \\'id\\': 933716, \\'known_for_department\\': \\'Acting\\', \\'name\\': \\'Morgana King\\', \\'original_name\\': \\'Morgana King\\', \\'popularity\\': 1.88, \\'profile_path\\': \\'/zPsFAqH4NXD7rMWl2Kj3rEyGrKj.jpg\\', \\'cast_id\\': 42, \\'character\\': \"Carmela \\'Mama\\' Corleone\", \\'credit_id\\': \\'52fe422bc3a36847f80093a7\\', \\'order\\': 16}, {\\'adult\\': False, \\'gender\\': 2, \\'id\\': 106811, \\'known_for_department\\': \\'Acting\\', \\'name\\': \\'Lenny Montana\\', \\'original_name\\': \\'Lenny Montana\\', \\'popularity\\': 3.293, \\'profile_path\\': \\'/3R52Zh3MBCaSPqmcyWcD1Y0N4wo.jpg\\', \\'cast_id\\': 45, \\'character\\': \\'Luca Brasi\\', \\'credit_id\\': \\'52fe422bc3a36847f80093b3\\', \\'order\\': 17}, {\\'adult\\': False, \\'gender\\': 2, \\'id\\': 99724, \\'known_for_department\\': \\'Acting\\', \\'name\\': \\'John Martino\\', \\'original_name\\': \\'John Martino\\', \\'popularity\\': 1.327, \\'profile_path\\': \\'/3c8BOgJ8UdHi5x5BS3lYnFngxB5.jpg\\', \\'cast_id\\': 47, \\'character\\': \\'Paulie Gatto\\', \\'credit_id\\': \\'52fe422bc3a36847f80093bb\\', \\'order\\': 18}, {\\'adult\\': False, \\'gender\\': 2, \\'id\\': 20752, \\'known_for_department\\': \\'Acting\\', \\'name\\': \\'Alex Rocco\\', \\'original_name\\': \\'Alex Rocco\\', \\'popularity\\': 5.939, \\'profile_path\\': \\'/u2JStL4Pk9Huq1xmrjqezfysivt.jpg\\', \\'cast_id\\': 41, \\'character\\': \\'Moe Greene\\', \\'credit_id\\': \\'52fe422bc3a36847f80093a3\\', \\'order\\': 19}, {\\'adult\\': False, \\'gender\\': 0, \\'id\\': 1195877, \\'known_for_department\\': \\'Acting\\', \\'name\\': \\'Salvatore Corsitto\\', \\'original_name\\': \\'Salvatore Corsitto\\', \\'popularity\\': 3.583, \\'profile_path\\': \\'/79OfgwtdP5qsR1UX6ERkrdmRT8c.jpg\\', \\'cast_id\\': 46, \\'character\\': \\'Amerigo Bonasera\\', \\'credit_id\\': \\'52fe422bc3a36847f80093b7\\', \\'order\\': 20}, {\\'adult\\': False, \\'gender\\': 2, \\'id\\': 3414, \\'known_for_department\\': \\'Acting\\', \\'name\\': \\'Tony Giorgio\\', \\'original_name\\': \\'Tony Giorgio\\', \\'popularity\\': 2.891, \\'profile_path\\': \\'/1uhgwgjoX7WaakEOBmtBRJKtgEB.jpg\\', \\'cast_id\\': 38, \\'character\\': \\'Bruno Tattaglia\\', \\'credit_id\\': \\'52fe422bc3a36847f800939f\\', \\'order\\': 21}, {\\'adult\\': False, \\'gender\\': 2, \\'id\\': 3413, \\'known_for_department\\': \\'Acting\\', \\'name\\': \\'Victor Rendina\\', \\'original_name\\': \\'Victor Rendina\\', \\'popularity\\': 3.206, \\'profile_path\\': \\'/vuNdsjDpgom80WBdB2WBTWuEIuM.jpg\\', \\'cast_id\\': 37, \\'character\\': \\'Philip Tattaglia\\', \\'credit_id\\': \\'52fe422bc3a36847f800939b\\', \\'order\\': 22}, {\\'adult\\': False, \\'gender\\': 1, \\'id\\': 3145, \\'known_for_department\\': \\'Acting\\', \\'name\\': \\'Simonetta Stefanelli\\', \\'original_name\\': \\'Simonetta Stefanelli\\', \\'popularity\\': 9.643, \\'profile_path\\': \\'/sVDrhgxuE6SHnj7q07OG6ywPUYR.jpg\\', \\'cast_id\\': 36, \\'character\\': \\'Apollonia Vitelli-Corleone\\', \\'credit_id\\': \\'52fe422bc3a36847f8009397\\', \\'order\\': 23}, {\\'adult\\': False, \\'gender\\': 2, \\'id\\': 119431, \\'known_for_department\\': \\'Acting\\', \\'name\\': \\'Saro Urzì\\', \\'original_name\\': \\'Saro Urzì\\', \\'popularity\\': 1.858, \\'profile_path\\': \\'/nPJytCpcNdG5ssPoKeEvxM6xifx.jpg\\', \\'cast_id\\': 48, \\'character\\': \\'Mr. Vitelli\\', \\'credit_id\\': \\'52fe422bc3a36847f80093bf\\', \\'order\\': 24}, {\\'adult\\': False, \\'gender\\': 1, \\'id\\': 1769, \\'known_for_department\\': \\'Directing\\', \\'name\\': \\'Sofia Coppola\\', \\'original_name\\': \\'Sofia Coppola\\', \\'popularity\\': 8.353, \\'profile_path\\': \\'/dzHC2LxmarkBxWLhjp2DRa5oCev.jpg\\', \\'cast_id\\': 43, \\'character\\': \\'Michael Francis Rizzi\\', \\'credit_id\\': \\'52fe422bc3a36847f80093ab\\', \\'order\\': 25}, {\\'adult\\': False, \\'gender\\': 2, \\'id\\': 20973, \\'known_for_department\\': \\'Acting\\', \\'name\\': \\'Louis Guss\\', \\'original_name\\': \\'Louis Guss\\', \\'popularity\\': 3.076, \\'profile_path\\': \\'/hz5Akuh4QcqitlifYwDiZ9ut6Tr.jpg\\', \\'cast_id\\': 44, \\'character\\': \\'Don Zaluchi\\', \\'credit_id\\': \\'52fe422bc3a36847f80093af\\', \\'order\\': 26}, {\\'adult\\': False, \\'gender\\': 2, \\'id\\': 3174, \\'known_for_department\\': \\'Acting\\', \\'name\\': \\'Richard Bright\\', \\'original_name\\': \\'Richard Bright\\', \\'popularity\\': 6.476, \\'profile_path\\': \\'/potMaJ2u5PRjXZb7qF9lSW1ldNZ.jpg\\', \\'cast_id\\': 70, \\'character\\': \\'Neri\\', \\'credit_id\\': \\'55be4cdbc3a3683921003065\\', \\'order\\': 27}, {\\'adult\\': False, \\'gender\\': 2, \\'id\\': 82779, \\'known_for_department\\': \\'Acting\\', \\'name\\': \\'Vito Scotti\\', \\'original_name\\': \\'Vito Scotti\\', \\'popularity\\': 5.8, \\'profile_path\\': \\'/zDGtXkASxpo3DzMNz6OI3NOp9v0.jpg\\', \\'cast_id\\': 71, \\'character\\': \\'Nazorine\\', \\'credit_id\\': \\'55be4cff9251413e49004a59\\', \\'order\\': 28}, {\\'adult\\': False, \\'gender\\': 1, \\'id\\': 982089, \\'known_for_department\\': \\'Acting\\', \\'name\\': \\'Tere Livrano\\', \\'original_name\\': \\'Tere Livrano\\', \\'popularity\\': 2.217, \\'profile_path\\': \\'/eBoC3425jmwRlsT2W8qUDsNwVXB.jpg\\', \\'cast_id\\': 72, \\'character\\': \\'Theresa Hagen\\', \\'credit_id\\': \\'55be4d40c3a368392100306d\\', \\'order\\': 29}, {\\'adult\\': False, \\'gender\\': 1, \\'id\\': 160728, \\'known_for_department\\': \\'Acting\\', \\'name\\': \\'Julie Gregg\\', \\'original_name\\': \\'Julie Gregg\\', \\'popularity\\': 2.669, \\'profile_path\\': \\'/8Kx71BnZNtpzb86jH7fcArWhJBh.jpg\\', \\'cast_id\\': 77, \\'character\\': \"Sandrinella \\'Sandra\\' Corleone\", \\'credit_id\\': \\'55ee4ac0c3a3686f170063c4\\', \\'order\\': 30}, {\\'adult\\': False, \\'gender\\': 2, \\'id\\': 27647, \\'known_for_department\\': \\'Acting\\', \\'name\\': \\'Angelo Infanti\\', \\'original_name\\': \\'Angelo Infanti\\', \\'popularity\\': 4.573, \\'profile_path\\': \\'/dkRVpiDj9YyiuM15XZKT11zZBIR.jpg\\', \\'cast_id\\': 74, \\'character\\': \\'Fabrizio\\', \\'credit_id\\': \\'55be4dffc3a368652600471c\\', \\'order\\': 31}, {\\'adult\\': False, \\'gender\\': 2, \\'id\\': 24604, \\'known_for_department\\': \\'Acting\\', \\'name\\': \\'Corrado Gaipa\\', \\'original_name\\': \\'Corrado Gaipa\\', \\'popularity\\': 2.558, \\'profile_path\\': \\'/7vR2BOdVw9FwJKjgpcisjKEytnL.jpg\\', \\'cast_id\\': 75, \\'character\\': \\'Don Tommasino\\', \\'credit_id\\': \\'55be4e2fc3a3686534005572\\', \\'order\\': 32}, {\\'adult\\': False, \\'gender\\': 2, \\'id\\': 44860, \\'known_for_department\\': \\'Acting\\', \\'name\\': \\'Franco Citti\\', \\'original_name\\': \\'Franco Citti\\', \\'popularity\\': 2.498, \\'profile_path\\': \\'/mttQPjOHaql4RKsfYriUA7HuROE.jpg\\', \\'cast_id\\': 76, \\'character\\': \\'Calò\\', \\'credit_id\\': \\'55be4e5bc3a3683921003083\\', \\'order\\': 33}, {\\'adult\\': False, \\'gender\\': 0, \\'id\\': 138211, \\'known_for_department\\': \\'Acting\\', \\'name\\': \\'Gabriele Torrei\\', \\'original_name\\': \\'Gabriele Torrei\\', \\'popularity\\': 2.653, \\'profile_path\\': \\'/x3KeYWTWX5SqZ3NuQGiWiadO4DI.jpg\\', \\'cast_id\\': 49, \\'character\\': \\'Enzo the Baker (uncredited)\\', \\'credit_id\\': \\'52fe422bc3a36847f80093c3\\', \\'order\\': 34}, {\\'adult\\': False, \\'gender\\': 2, \\'id\\': 55672, \\'known_for_department\\': \\'Acting\\', \\'name\\': \\'Tony King\\', \\'original_name\\': \\'Tony King\\', \\'popularity\\': 3.56, \\'profile_path\\': \\'/hOVVHEyc6euuuRhCLo6Q5YE4lLz.jpg\\', \\'cast_id\\': 69, \\'character\\': \\'Tony the Stablehand (uncredited)\\', \\'credit_id\\': \\'54de315fc3a3685446001351\\', \\'order\\': 35}, {\\'adult\\': False, \\'gender\\': 0, \\'id\\': 178006, \\'known_for_department\\': \\'Acting\\', \\'name\\': \\'Max Brandt\\', \\'original_name\\': \\'Max Brandt\\', \\'popularity\\': 0.991, \\'profile_path\\': None, \\'cast_id\\': 78, \\'character\\': \\'Extra in Furniture-Moving Scene (uncredited)\\', \\'credit_id\\': \\'55f1b3c992514167010020a7\\', \\'order\\': 36}, {\\'adult\\': False, \\'gender\\': 2, \\'id\\': 2872, \\'known_for_department\\': \\'Sound\\', \\'name\\': \\'Carmine Coppola\\', \\'original_name\\': \\'Carmine Coppola\\', \\'popularity\\': 2.829, \\'profile_path\\': \\'/iURpKXIgdtQoVCBQ8GKGvb0Qw5z.jpg\\', \\'cast_id\\': 79, \\'character\\': \\'Piano Player in Montage (uncredited)\\', \\'credit_id\\': \\'55f1b3ffc3a368230a00239f\\', \\'order\\': 37}, {\\'adult\\': False, \\'gender\\': 2, \\'id\\': 38803, \\'known_for_department\\': \\'Writing\\', \\'name\\': \\'Roman Coppola\\', \\'original_name\\': \\'Roman Coppola\\', \\'popularity\\': 4.894, \\'profile_path\\': \\'/rKamKkx78qjZTfvqi2OWCo5p6x5.jpg\\', \\'cast_id\\': 80, \\'character\\': \\'Boy on Street Who Attended Funeral (uncredited)\\', \\'credit_id\\': \\'55f1b452c3a36822f5002395\\', \\'order\\': 38}, {\\'adult\\': False, \\'gender\\': 0, \\'id\\': 1209294, \\'known_for_department\\': \\'Acting\\', \\'name\\': \\'Don Costello\\', \\'original_name\\': \\'Don Costello\\', \\'popularity\\': 1.38, \\'profile_path\\': None, \\'cast_id\\': 81, \\'character\\': \\'Don Victor Stracci (uncredited)\\', \\'credit_id\\': \\'55f1b4bac3a3682303002284\\', \\'order\\': 39}, {\\'adult\\': False, \\'gender\\': 2, \\'id\\': 1394703, \\'known_for_department\\': \\'Acting\\', \\'name\\': \\'Robert Dahdah\\', \\'original_name\\': \\'Robert Dahdah\\', \\'popularity\\': 0.6, \\'profile_path\\': None, \\'cast_id\\': 82, \\'character\\': \\'Crowd (uncredited)\\', \\'credit_id\\': \\'55f1b4de925141670d002392\\', \\'order\\': 40}, {\\'adult\\': False, \\'gender\\': 2, \\'id\\': 2870, \\'known_for_department\\': \\'Production\\', \\'name\\': \\'Gray Frederickson\\', \\'original_name\\': \\'Gray Frederickson\\', \\'popularity\\': 3.018, \\'profile_path\\': None, \\'cast_id\\': 83, \\'character\\': \"Cowboy on the Set at Woltz\\'s Studio (uncredited)\", \\'credit_id\\': \\'55f1b507925141670d00239a\\', \\'order\\': 41}, {\\'adult\\': False, \\'gender\\': 2, \\'id\\': 160621, \\'known_for_department\\': \\'Acting\\', \\'name\\': \\'Ron Gilbert\\', \\'original_name\\': \\'Ron Gilbert\\', \\'popularity\\': 0.783, \\'profile_path\\': \\'/qrY6w2k0YpuMB2yTCOv6cxeQtmw.jpg\\', \\'cast_id\\': 84, \\'character\\': \\'Usher in Bridal Party (uncredited)\\', \\'credit_id\\': \\'55f1b52f9251416711002211\\', \\'order\\': 42}, {\\'adult\\': False, \\'gender\\': 2, \\'id\\': 1233541, \\'known_for_department\\': \\'Acting\\', \\'name\\': \\'Sonny Grosso\\', \\'original_name\\': \\'Sonny Grosso\\', \\'popularity\\': 2.238, \\'profile_path\\': None, \\'cast_id\\': 87, \\'character\\': \\'Cop Outside Hospital (uncredited)\\', \\'credit_id\\': \\'55f1b5bb925141670100210a\\', \\'order\\': 43}, {\\'adult\\': False, \\'gender\\': 2, \\'id\\': 1503036, \\'known_for_department\\': \\'Acting\\', \\'name\\': \\'Joe Lo Grippo\\', \\'original_name\\': \\'Joe Lo Grippo\\', \\'popularity\\': 0.6, \\'profile_path\\': None, \\'cast_id\\': 86, \\'character\\': \"Sonny\\'s Bodyguard (uncredited)\", \\'credit_id\\': \\'55f1b59dc3a3683bec00231e\\', \\'order\\': 44}, {\\'adult\\': False, \\'gender\\': 2, \\'id\\': 1068099, \\'known_for_department\\': \\'Acting\\', \\'name\\': \\'Randy Jurgensen\\', \\'original_name\\': \\'Randy Jurgensen\\', \\'popularity\\': 0.786, \\'profile_path\\': \\'/xRoN79wRLndTMCJoaBSsdjQVIzI.jpg\\', \\'cast_id\\': 89, \\'character\\': \"Sonny\\'s Killer #1 (uncredited)\", \\'credit_id\\': \\'55f1b61ec3a3683bec002335\\', \\'order\\': 45}, {\\'adult\\': False, \\'gender\\': 2, \\'id\\': 61241, \\'known_for_department\\': \\'Acting\\', \\'name\\': \\'Tony Lip\\', \\'original_name\\': \\'Tony Lip\\', \\'popularity\\': 7.085, \\'profile_path\\': \\'/6xz6XmjgiCCOm067OzWYziD4Mxa.jpg\\', \\'cast_id\\': 90, \\'character\\': \\'Wedding Guest (uncredited)\\', \\'credit_id\\': \\'55f1b685c3a36823070023b6\\', \\'order\\': 46}, {\\'adult\\': False, \\'gender\\': 2, \\'id\\': 106187, \\'known_for_department\\': \\'Acting\\', \\'name\\': \\'Lou Martini Jr.\\', \\'original_name\\': \\'Lou Martini Jr.\\', \\'popularity\\': 1.631, \\'profile_path\\': \\'/85s5KR0BA6dhMJtOrvtKGY8Bz8E.jpg\\', \\'cast_id\\': 91, \\'character\\': \\'Boy at Wedding (uncredited)\\', \\'credit_id\\': \\'55f1b6c39251416701002141\\', \\'order\\': 47}, {\\'adult\\': False, \\'gender\\': 2, \\'id\\': 100503, \\'known_for_department\\': \\'Acting\\', \\'name\\': \\'Raymond Martino\\', \\'original_name\\': \\'Raymond Martino\\', \\'popularity\\': 1.135, \\'profile_path\\': None, \\'cast_id\\': 92, \\'character\\': \\'Corleone Family Member (uncredited)\\', \\'credit_id\\': \\'55f1b6e59251416711002257\\', \\'order\\': 48}, {\\'adult\\': False, \\'gender\\': 2, \\'id\\': 1503035, \\'known_for_department\\': \\'Acting\\', \\'name\\': \\'Joseph Medaglia\\', \\'original_name\\': \\'Joseph Medaglia\\', \\'popularity\\': 1.667, \\'profile_path\\': None, \\'cast_id\\': 93, \\'character\\': \\'Priest at Baptism (uncredited)\\', \\'credit_id\\': \\'55f1b73dc3a3685eb80005f7\\', \\'order\\': 49}, {\\'adult\\': False, \\'gender\\': 0, \\'id\\': 1290895, \\'known_for_department\\': \\'Acting\\', \\'name\\': \\'Rick Petrucelli\\', \\'original_name\\': \\'Rick Petrucelli\\', \\'popularity\\': 1.597, \\'profile_path\\': None, \\'cast_id\\': 94, \\'character\\': \\'Man in Passenger Seat (uncredited)\\', \\'credit_id\\': \\'55f1b769925141671400218e\\', \\'order\\': 50}, {\\'adult\\': False, \\'gender\\': 0, \\'id\\': 1237372, \\'known_for_department\\': \\'Acting\\', \\'name\\': \\'Sal Richards\\', \\'original_name\\': \\'Sal Richards\\', \\'popularity\\': 1.16, \\'profile_path\\': \\'/gZSiZOtBVv1U4hqjlKkPr2p5rCP.jpg\\', \\'cast_id\\': 95, \\'character\\': \\'Drunk (uncredited)\\', \\'credit_id\\': \\'55f1b7c29251410d6d000acb\\', \\'order\\': 51}, {\\'adult\\': False, \\'gender\\': 2, \\'id\\': 1213795, \\'known_for_department\\': \\'Acting\\', \\'name\\': \\'Tom Rosqui\\', \\'original_name\\': \\'Tom Rosqui\\', \\'popularity\\': 3.503, \\'profile_path\\': None, \\'cast_id\\': 96, \\'character\\': \\'Rocco Lampone (uncredited)\\', \\'credit_id\\': \\'55f1b7e2925141670d00243a\\', \\'order\\': 52}, {\\'adult\\': False, \\'gender\\': 2, \\'id\\': 11480, \\'known_for_department\\': \\'Acting\\', \\'name\\': \\'Frank Sivero\\', \\'original_name\\': \\'Frank Sivero\\', \\'popularity\\': 4.499, \\'profile_path\\': \\'/eqvhj0iNtcsN6EJhd21Goqi1DSq.jpg\\', \\'cast_id\\': 97, \\'character\\': \\'Street Extra (uncredited)\\', \\'credit_id\\': \\'55f1b81092514167140021b1\\', \\'order\\': 53}, {\\'adult\\': False, \\'gender\\': 0, \\'id\\': 1209678, \\'known_for_department\\': \\'Acting\\', \\'name\\': \\'Filomena Spagnuolo\\', \\'original_name\\': \\'Filomena Spagnuolo\\', \\'popularity\\': 0.6, \\'profile_path\\': None, \\'cast_id\\': 98, \\'character\\': \\'Extra in Wedding Scene (uncredited)\\', \\'credit_id\\': \\'55f1b83592514167140021c1\\', \\'order\\': 54}, {\\'adult\\': False, \\'gender\\': 2, \\'id\\': 78336, \\'known_for_department\\': \\'Directing\\', \\'name\\': \\'Nick Vallelonga\\', \\'original_name\\': \\'Nick Vallelonga\\', \\'popularity\\': 8.561, \\'profile_path\\': \\'/h0GwAHN1J5lDysqgWxMIg66LNBW.jpg\\', \\'cast_id\\': 100, \\'character\\': \\'Wedding Party Guest (uncredited)\\', \\'credit_id\\': \\'55f1b89b9251410d6d000af0\\', \\'order\\': 55}, {\\'adult\\': False, \\'gender\\': 2, \\'id\\': 16525, \\'known_for_department\\': \\'Acting\\', \\'name\\': \\'Joe Spinell\\', \\'original_name\\': \\'Joe Spinell\\', \\'popularity\\': 4.913, \\'profile_path\\': \\'/rdDEi8SJSx9OwVJQaHNa3VfZBRM.jpg\\', \\'cast_id\\': 99, \\'character\\': \"William \\'Willie\\' Cicci (uncredited)\", \\'credit_id\\': \\'55f1b85d925141670500228d\\', \\'order\\': 56}, {\\'adult\\': False, \\'gender\\': 2, \\'id\\': 1234848, \\'known_for_department\\': \\'Acting\\', \\'name\\': \\'Conrad Yama\\', \\'original_name\\': \\'Conrad Yama\\', \\'popularity\\': 1.287, \\'profile_path\\': None, \\'cast_id\\': 101, \\'character\\': \\'Fruit Vendor (uncredited)\\', \\'credit_id\\': \\'55f1b90892514167050022a8\\', \\'order\\': 57}]'"
      ]
     },
     "execution_count": 39,
     "metadata": {},
     "output_type": "execute_result"
    }
   ],
   "source": [
    "movies.iloc[0]['Cast']"
   ]
  },
  {
   "cell_type": "code",
   "execution_count": 40,
   "metadata": {},
   "outputs": [],
   "source": [
    "def convert_cast(text):\n",
    "    L = []\n",
    "    counter = 0\n",
    "    for i in ast.literal_eval(text):\n",
    "        if counter < 3:\n",
    "            L.append(i['name'])\n",
    "        counter+=1\n",
    "    return L"
   ]
  },
  {
   "cell_type": "code",
   "execution_count": 41,
   "metadata": {},
   "outputs": [
    {
     "data": {
      "text/html": [
       "<div>\n",
       "<style scoped>\n",
       "    .dataframe tbody tr th:only-of-type {\n",
       "        vertical-align: middle;\n",
       "    }\n",
       "\n",
       "    .dataframe tbody tr th {\n",
       "        vertical-align: top;\n",
       "    }\n",
       "\n",
       "    .dataframe thead th {\n",
       "        text-align: right;\n",
       "    }\n",
       "</style>\n",
       "<table border=\"1\" class=\"dataframe\">\n",
       "  <thead>\n",
       "    <tr style=\"text-align: right;\">\n",
       "      <th></th>\n",
       "      <th>Movie_id_x</th>\n",
       "      <th>title</th>\n",
       "      <th>overview</th>\n",
       "      <th>Genres</th>\n",
       "      <th>Keywords</th>\n",
       "      <th>Cast</th>\n",
       "      <th>Crew</th>\n",
       "    </tr>\n",
       "  </thead>\n",
       "  <tbody>\n",
       "    <tr>\n",
       "      <th>0</th>\n",
       "      <td>238</td>\n",
       "      <td>The Godfather</td>\n",
       "      <td>Spanning the years 1945 to 1955, a chronicle o...</td>\n",
       "      <td>[Drama, Crime]</td>\n",
       "      <td>[italy, loss of loved one, love at first sight...</td>\n",
       "      <td>[Marlon Brando, Al Pacino, James Caan]</td>\n",
       "      <td>[{'adult': False, 'gender': 2, 'id': 154, 'kno...</td>\n",
       "    </tr>\n",
       "    <tr>\n",
       "      <th>1</th>\n",
       "      <td>278</td>\n",
       "      <td>The Shawshank Redemption</td>\n",
       "      <td>Framed in the 1940s for the double murder of h...</td>\n",
       "      <td>[Drama, Crime]</td>\n",
       "      <td>[prison, corruption, police brutality, based o...</td>\n",
       "      <td>[Tim Robbins, Morgan Freeman, Bob Gunton]</td>\n",
       "      <td>[{'adult': False, 'gender': 2, 'id': 153, 'kno...</td>\n",
       "    </tr>\n",
       "    <tr>\n",
       "      <th>2</th>\n",
       "      <td>240</td>\n",
       "      <td>The Godfather Part II</td>\n",
       "      <td>In the continuing saga of the Corleone crime f...</td>\n",
       "      <td>[Drama, Crime]</td>\n",
       "      <td>[italy, italian american, cuba, symbolism, gan...</td>\n",
       "      <td>[Al Pacino, Robert Duvall, Diane Keaton]</td>\n",
       "      <td>[{'adult': False, 'gender': 2, 'id': 154, 'kno...</td>\n",
       "    </tr>\n",
       "    <tr>\n",
       "      <th>3</th>\n",
       "      <td>19404</td>\n",
       "      <td>Dilwale Dulhania Le Jayenge</td>\n",
       "      <td>Raj is a rich, carefree, happy-go-lucky second...</td>\n",
       "      <td>[Comedy, Drama, Romance]</td>\n",
       "      <td>[]</td>\n",
       "      <td>[Shah Rukh Khan, Kajol, Amrish Puri]</td>\n",
       "      <td>[{'adult': False, 'gender': 1, 'id': 8311, 'kn...</td>\n",
       "    </tr>\n",
       "    <tr>\n",
       "      <th>4</th>\n",
       "      <td>424</td>\n",
       "      <td>Schindler's List</td>\n",
       "      <td>The true story of how businessman Oskar Schind...</td>\n",
       "      <td>[Drama, History, War]</td>\n",
       "      <td>[based on novel or book, factory, concentratio...</td>\n",
       "      <td>[Liam Neeson, Ben Kingsley, Ralph Fiennes]</td>\n",
       "      <td>[{'adult': False, 'gender': 2, 'id': 491, 'kno...</td>\n",
       "    </tr>\n",
       "  </tbody>\n",
       "</table>\n",
       "</div>"
      ],
      "text/plain": [
       "   Movie_id_x                        title  \\\n",
       "0         238                The Godfather   \n",
       "1         278     The Shawshank Redemption   \n",
       "2         240        The Godfather Part II   \n",
       "3       19404  Dilwale Dulhania Le Jayenge   \n",
       "4         424             Schindler's List   \n",
       "\n",
       "                                            overview  \\\n",
       "0  Spanning the years 1945 to 1955, a chronicle o...   \n",
       "1  Framed in the 1940s for the double murder of h...   \n",
       "2  In the continuing saga of the Corleone crime f...   \n",
       "3  Raj is a rich, carefree, happy-go-lucky second...   \n",
       "4  The true story of how businessman Oskar Schind...   \n",
       "\n",
       "                     Genres  \\\n",
       "0            [Drama, Crime]   \n",
       "1            [Drama, Crime]   \n",
       "2            [Drama, Crime]   \n",
       "3  [Comedy, Drama, Romance]   \n",
       "4     [Drama, History, War]   \n",
       "\n",
       "                                            Keywords  \\\n",
       "0  [italy, loss of loved one, love at first sight...   \n",
       "1  [prison, corruption, police brutality, based o...   \n",
       "2  [italy, italian american, cuba, symbolism, gan...   \n",
       "3                                                 []   \n",
       "4  [based on novel or book, factory, concentratio...   \n",
       "\n",
       "                                         Cast  \\\n",
       "0      [Marlon Brando, Al Pacino, James Caan]   \n",
       "1   [Tim Robbins, Morgan Freeman, Bob Gunton]   \n",
       "2    [Al Pacino, Robert Duvall, Diane Keaton]   \n",
       "3        [Shah Rukh Khan, Kajol, Amrish Puri]   \n",
       "4  [Liam Neeson, Ben Kingsley, Ralph Fiennes]   \n",
       "\n",
       "                                                Crew  \n",
       "0  [{'adult': False, 'gender': 2, 'id': 154, 'kno...  \n",
       "1  [{'adult': False, 'gender': 2, 'id': 153, 'kno...  \n",
       "2  [{'adult': False, 'gender': 2, 'id': 154, 'kno...  \n",
       "3  [{'adult': False, 'gender': 1, 'id': 8311, 'kn...  \n",
       "4  [{'adult': False, 'gender': 2, 'id': 491, 'kno...  "
      ]
     },
     "execution_count": 41,
     "metadata": {},
     "output_type": "execute_result"
    }
   ],
   "source": [
    "movies['Cast'] = movies['Cast'].apply(convert_cast)\n",
    "movies.head()"
   ]
  },
  {
   "cell_type": "code",
   "execution_count": 42,
   "metadata": {},
   "outputs": [],
   "source": [
    "def fetch_director(text):\n",
    "    L = []\n",
    "    for i in ast.literal_eval(text):\n",
    "        if i['job'] == 'Director':\n",
    "            L.append(i['name'])\n",
    "            break\n",
    "    return L"
   ]
  },
  {
   "cell_type": "code",
   "execution_count": 44,
   "metadata": {},
   "outputs": [],
   "source": [
    "movies['Crew'] = movies['Crew'].apply(fetch_director)"
   ]
  },
  {
   "cell_type": "code",
   "execution_count": 45,
   "metadata": {},
   "outputs": [
    {
     "data": {
      "text/html": [
       "<div>\n",
       "<style scoped>\n",
       "    .dataframe tbody tr th:only-of-type {\n",
       "        vertical-align: middle;\n",
       "    }\n",
       "\n",
       "    .dataframe tbody tr th {\n",
       "        vertical-align: top;\n",
       "    }\n",
       "\n",
       "    .dataframe thead th {\n",
       "        text-align: right;\n",
       "    }\n",
       "</style>\n",
       "<table border=\"1\" class=\"dataframe\">\n",
       "  <thead>\n",
       "    <tr style=\"text-align: right;\">\n",
       "      <th></th>\n",
       "      <th>Movie_id_x</th>\n",
       "      <th>title</th>\n",
       "      <th>overview</th>\n",
       "      <th>Genres</th>\n",
       "      <th>Keywords</th>\n",
       "      <th>Cast</th>\n",
       "      <th>Crew</th>\n",
       "    </tr>\n",
       "  </thead>\n",
       "  <tbody>\n",
       "    <tr>\n",
       "      <th>0</th>\n",
       "      <td>238</td>\n",
       "      <td>The Godfather</td>\n",
       "      <td>Spanning the years 1945 to 1955, a chronicle o...</td>\n",
       "      <td>[Drama, Crime]</td>\n",
       "      <td>[italy, loss of loved one, love at first sight...</td>\n",
       "      <td>[Marlon Brando, Al Pacino, James Caan]</td>\n",
       "      <td>[Francis Ford Coppola]</td>\n",
       "    </tr>\n",
       "    <tr>\n",
       "      <th>1</th>\n",
       "      <td>278</td>\n",
       "      <td>The Shawshank Redemption</td>\n",
       "      <td>Framed in the 1940s for the double murder of h...</td>\n",
       "      <td>[Drama, Crime]</td>\n",
       "      <td>[prison, corruption, police brutality, based o...</td>\n",
       "      <td>[Tim Robbins, Morgan Freeman, Bob Gunton]</td>\n",
       "      <td>[Frank Darabont]</td>\n",
       "    </tr>\n",
       "    <tr>\n",
       "      <th>2</th>\n",
       "      <td>240</td>\n",
       "      <td>The Godfather Part II</td>\n",
       "      <td>In the continuing saga of the Corleone crime f...</td>\n",
       "      <td>[Drama, Crime]</td>\n",
       "      <td>[italy, italian american, cuba, symbolism, gan...</td>\n",
       "      <td>[Al Pacino, Robert Duvall, Diane Keaton]</td>\n",
       "      <td>[Francis Ford Coppola]</td>\n",
       "    </tr>\n",
       "    <tr>\n",
       "      <th>3</th>\n",
       "      <td>19404</td>\n",
       "      <td>Dilwale Dulhania Le Jayenge</td>\n",
       "      <td>Raj is a rich, carefree, happy-go-lucky second...</td>\n",
       "      <td>[Comedy, Drama, Romance]</td>\n",
       "      <td>[]</td>\n",
       "      <td>[Shah Rukh Khan, Kajol, Amrish Puri]</td>\n",
       "      <td>[Aditya Chopra]</td>\n",
       "    </tr>\n",
       "    <tr>\n",
       "      <th>4</th>\n",
       "      <td>424</td>\n",
       "      <td>Schindler's List</td>\n",
       "      <td>The true story of how businessman Oskar Schind...</td>\n",
       "      <td>[Drama, History, War]</td>\n",
       "      <td>[based on novel or book, factory, concentratio...</td>\n",
       "      <td>[Liam Neeson, Ben Kingsley, Ralph Fiennes]</td>\n",
       "      <td>[Steven Spielberg]</td>\n",
       "    </tr>\n",
       "  </tbody>\n",
       "</table>\n",
       "</div>"
      ],
      "text/plain": [
       "   Movie_id_x                        title  \\\n",
       "0         238                The Godfather   \n",
       "1         278     The Shawshank Redemption   \n",
       "2         240        The Godfather Part II   \n",
       "3       19404  Dilwale Dulhania Le Jayenge   \n",
       "4         424             Schindler's List   \n",
       "\n",
       "                                            overview  \\\n",
       "0  Spanning the years 1945 to 1955, a chronicle o...   \n",
       "1  Framed in the 1940s for the double murder of h...   \n",
       "2  In the continuing saga of the Corleone crime f...   \n",
       "3  Raj is a rich, carefree, happy-go-lucky second...   \n",
       "4  The true story of how businessman Oskar Schind...   \n",
       "\n",
       "                     Genres  \\\n",
       "0            [Drama, Crime]   \n",
       "1            [Drama, Crime]   \n",
       "2            [Drama, Crime]   \n",
       "3  [Comedy, Drama, Romance]   \n",
       "4     [Drama, History, War]   \n",
       "\n",
       "                                            Keywords  \\\n",
       "0  [italy, loss of loved one, love at first sight...   \n",
       "1  [prison, corruption, police brutality, based o...   \n",
       "2  [italy, italian american, cuba, symbolism, gan...   \n",
       "3                                                 []   \n",
       "4  [based on novel or book, factory, concentratio...   \n",
       "\n",
       "                                         Cast                    Crew  \n",
       "0      [Marlon Brando, Al Pacino, James Caan]  [Francis Ford Coppola]  \n",
       "1   [Tim Robbins, Morgan Freeman, Bob Gunton]        [Frank Darabont]  \n",
       "2    [Al Pacino, Robert Duvall, Diane Keaton]  [Francis Ford Coppola]  \n",
       "3        [Shah Rukh Khan, Kajol, Amrish Puri]         [Aditya Chopra]  \n",
       "4  [Liam Neeson, Ben Kingsley, Ralph Fiennes]      [Steven Spielberg]  "
      ]
     },
     "execution_count": 45,
     "metadata": {},
     "output_type": "execute_result"
    }
   ],
   "source": [
    "movies.head()"
   ]
  },
  {
   "cell_type": "code",
   "execution_count": 46,
   "metadata": {},
   "outputs": [
    {
     "data": {
      "text/plain": [
       "'Spanning the years 1945 to 1955, a chronicle of the fictional Italian-American Corleone crime family. When organized crime family patriarch, Vito Corleone barely survives an attempt on his life, his youngest son, Michael steps in to take care of the would-be killers, launching a campaign of bloody revenge.'"
      ]
     },
     "execution_count": 46,
     "metadata": {},
     "output_type": "execute_result"
    }
   ],
   "source": [
    "movies.iloc[0]['overview']"
   ]
  },
  {
   "cell_type": "code",
   "execution_count": 47,
   "metadata": {},
   "outputs": [
    {
     "data": {
      "text/html": [
       "<div>\n",
       "<style scoped>\n",
       "    .dataframe tbody tr th:only-of-type {\n",
       "        vertical-align: middle;\n",
       "    }\n",
       "\n",
       "    .dataframe tbody tr th {\n",
       "        vertical-align: top;\n",
       "    }\n",
       "\n",
       "    .dataframe thead th {\n",
       "        text-align: right;\n",
       "    }\n",
       "</style>\n",
       "<table border=\"1\" class=\"dataframe\">\n",
       "  <thead>\n",
       "    <tr style=\"text-align: right;\">\n",
       "      <th></th>\n",
       "      <th>Movie_id_x</th>\n",
       "      <th>title</th>\n",
       "      <th>overview</th>\n",
       "      <th>Genres</th>\n",
       "      <th>Keywords</th>\n",
       "      <th>Cast</th>\n",
       "      <th>Crew</th>\n",
       "    </tr>\n",
       "  </thead>\n",
       "  <tbody>\n",
       "    <tr>\n",
       "      <th>728</th>\n",
       "      <td>9421</td>\n",
       "      <td>The Dinner Game</td>\n",
       "      <td>[For, Pierre, Brochant, and, his, friends,, We...</td>\n",
       "      <td>[Comedy]</td>\n",
       "      <td>[fool, tax inspector]</td>\n",
       "      <td>[Thierry Lhermitte, Jacques Villeret, Francis ...</td>\n",
       "      <td>[Francis Veber]</td>\n",
       "    </tr>\n",
       "    <tr>\n",
       "      <th>8395</th>\n",
       "      <td>184345</td>\n",
       "      <td>A Haunted House 2</td>\n",
       "      <td>[After, exorcising, the, demons, of, his, ex-,...</td>\n",
       "      <td>[Comedy, Horror]</td>\n",
       "      <td>[exorcism, haunted house, evil doll, parody, p...</td>\n",
       "      <td>[Marlon Wayans, Jaime Pressly, Essence Atkins]</td>\n",
       "      <td>[Michael Tiddes]</td>\n",
       "    </tr>\n",
       "    <tr>\n",
       "      <th>3829</th>\n",
       "      <td>10839</td>\n",
       "      <td>Cross of Iron</td>\n",
       "      <td>[It, is, 1943,, and, the, German, army—ravaged...</td>\n",
       "      <td>[Drama, Action, History, War]</td>\n",
       "      <td>[world war ii, troops, battle for power, hosti...</td>\n",
       "      <td>[James Coburn, Maximilian Schell, James Mason]</td>\n",
       "      <td>[Sam Peckinpah]</td>\n",
       "    </tr>\n",
       "    <tr>\n",
       "      <th>5206</th>\n",
       "      <td>1389</td>\n",
       "      <td>Out of Sight</td>\n",
       "      <td>[Meet, Jack, Foley,, a, smooth, criminal, who,...</td>\n",
       "      <td>[Romance, Comedy, Crime]</td>\n",
       "      <td>[journalist, bedroom, purse, trunk, prison esc...</td>\n",
       "      <td>[George Clooney, Jennifer Lopez, Ving Rhames]</td>\n",
       "      <td>[Steven Soderbergh]</td>\n",
       "    </tr>\n",
       "  </tbody>\n",
       "</table>\n",
       "</div>"
      ],
      "text/plain": [
       "      Movie_id_x              title  \\\n",
       "728         9421    The Dinner Game   \n",
       "8395      184345  A Haunted House 2   \n",
       "3829       10839      Cross of Iron   \n",
       "5206        1389       Out of Sight   \n",
       "\n",
       "                                               overview  \\\n",
       "728   [For, Pierre, Brochant, and, his, friends,, We...   \n",
       "8395  [After, exorcising, the, demons, of, his, ex-,...   \n",
       "3829  [It, is, 1943,, and, the, German, army—ravaged...   \n",
       "5206  [Meet, Jack, Foley,, a, smooth, criminal, who,...   \n",
       "\n",
       "                             Genres  \\\n",
       "728                        [Comedy]   \n",
       "8395               [Comedy, Horror]   \n",
       "3829  [Drama, Action, History, War]   \n",
       "5206       [Romance, Comedy, Crime]   \n",
       "\n",
       "                                               Keywords  \\\n",
       "728                               [fool, tax inspector]   \n",
       "8395  [exorcism, haunted house, evil doll, parody, p...   \n",
       "3829  [world war ii, troops, battle for power, hosti...   \n",
       "5206  [journalist, bedroom, purse, trunk, prison esc...   \n",
       "\n",
       "                                                   Cast                 Crew  \n",
       "728   [Thierry Lhermitte, Jacques Villeret, Francis ...      [Francis Veber]  \n",
       "8395     [Marlon Wayans, Jaime Pressly, Essence Atkins]     [Michael Tiddes]  \n",
       "3829     [James Coburn, Maximilian Schell, James Mason]      [Sam Peckinpah]  \n",
       "5206      [George Clooney, Jennifer Lopez, Ving Rhames]  [Steven Soderbergh]  "
      ]
     },
     "execution_count": 47,
     "metadata": {},
     "output_type": "execute_result"
    }
   ],
   "source": [
    "movies['overview'] = movies['overview'].apply(lambda x:x.split())\n",
    "movies.sample(4)"
   ]
  },
  {
   "cell_type": "code",
   "execution_count": 48,
   "metadata": {},
   "outputs": [
    {
     "data": {
      "text/plain": [
       "['Spanning',\n",
       " 'the',\n",
       " 'years',\n",
       " '1945',\n",
       " 'to',\n",
       " '1955,',\n",
       " 'a',\n",
       " 'chronicle',\n",
       " 'of',\n",
       " 'the',\n",
       " 'fictional',\n",
       " 'Italian-American',\n",
       " 'Corleone',\n",
       " 'crime',\n",
       " 'family.',\n",
       " 'When',\n",
       " 'organized',\n",
       " 'crime',\n",
       " 'family',\n",
       " 'patriarch,',\n",
       " 'Vito',\n",
       " 'Corleone',\n",
       " 'barely',\n",
       " 'survives',\n",
       " 'an',\n",
       " 'attempt',\n",
       " 'on',\n",
       " 'his',\n",
       " 'life,',\n",
       " 'his',\n",
       " 'youngest',\n",
       " 'son,',\n",
       " 'Michael',\n",
       " 'steps',\n",
       " 'in',\n",
       " 'to',\n",
       " 'take',\n",
       " 'care',\n",
       " 'of',\n",
       " 'the',\n",
       " 'would-be',\n",
       " 'killers,',\n",
       " 'launching',\n",
       " 'a',\n",
       " 'campaign',\n",
       " 'of',\n",
       " 'bloody',\n",
       " 'revenge.']"
      ]
     },
     "execution_count": 48,
     "metadata": {},
     "output_type": "execute_result"
    }
   ],
   "source": [
    "movies.iloc[0]['overview']"
   ]
  },
  {
   "cell_type": "code",
   "execution_count": 49,
   "metadata": {},
   "outputs": [],
   "source": [
    "def remove_space(L):\n",
    "    L1 = []\n",
    "    for i in L:\n",
    "        L1.append(i.replace(\" \",\"\"))\n",
    "    return L1"
   ]
  },
  {
   "cell_type": "code",
   "execution_count": 51,
   "metadata": {},
   "outputs": [],
   "source": [
    "movies['Cast'] = movies['Cast'].apply(remove_space)\n",
    "movies['Crew'] = movies['Crew'].apply(remove_space)\n",
    "movies['Genres'] = movies['Genres'].apply(remove_space)\n",
    "movies['Keywords'] = movies['Keywords'].apply(remove_space)"
   ]
  },
  {
   "cell_type": "code",
   "execution_count": 52,
   "metadata": {},
   "outputs": [
    {
     "data": {
      "text/html": [
       "<div>\n",
       "<style scoped>\n",
       "    .dataframe tbody tr th:only-of-type {\n",
       "        vertical-align: middle;\n",
       "    }\n",
       "\n",
       "    .dataframe tbody tr th {\n",
       "        vertical-align: top;\n",
       "    }\n",
       "\n",
       "    .dataframe thead th {\n",
       "        text-align: right;\n",
       "    }\n",
       "</style>\n",
       "<table border=\"1\" class=\"dataframe\">\n",
       "  <thead>\n",
       "    <tr style=\"text-align: right;\">\n",
       "      <th></th>\n",
       "      <th>Movie_id_x</th>\n",
       "      <th>title</th>\n",
       "      <th>overview</th>\n",
       "      <th>Genres</th>\n",
       "      <th>Keywords</th>\n",
       "      <th>Cast</th>\n",
       "      <th>Crew</th>\n",
       "    </tr>\n",
       "  </thead>\n",
       "  <tbody>\n",
       "    <tr>\n",
       "      <th>0</th>\n",
       "      <td>238</td>\n",
       "      <td>The Godfather</td>\n",
       "      <td>[Spanning, the, years, 1945, to, 1955,, a, chr...</td>\n",
       "      <td>[Drama, Crime]</td>\n",
       "      <td>[italy, lossoflovedone, loveatfirstsight, base...</td>\n",
       "      <td>[MarlonBrando, AlPacino, JamesCaan]</td>\n",
       "      <td>[FrancisFordCoppola]</td>\n",
       "    </tr>\n",
       "    <tr>\n",
       "      <th>1</th>\n",
       "      <td>278</td>\n",
       "      <td>The Shawshank Redemption</td>\n",
       "      <td>[Framed, in, the, 1940s, for, the, double, mur...</td>\n",
       "      <td>[Drama, Crime]</td>\n",
       "      <td>[prison, corruption, policebrutality, basedonn...</td>\n",
       "      <td>[TimRobbins, MorganFreeman, BobGunton]</td>\n",
       "      <td>[FrankDarabont]</td>\n",
       "    </tr>\n",
       "    <tr>\n",
       "      <th>2</th>\n",
       "      <td>240</td>\n",
       "      <td>The Godfather Part II</td>\n",
       "      <td>[In, the, continuing, saga, of, the, Corleone,...</td>\n",
       "      <td>[Drama, Crime]</td>\n",
       "      <td>[italy, italianamerican, cuba, symbolism, gang...</td>\n",
       "      <td>[AlPacino, RobertDuvall, DianeKeaton]</td>\n",
       "      <td>[FrancisFordCoppola]</td>\n",
       "    </tr>\n",
       "    <tr>\n",
       "      <th>3</th>\n",
       "      <td>19404</td>\n",
       "      <td>Dilwale Dulhania Le Jayenge</td>\n",
       "      <td>[Raj, is, a, rich,, carefree,, happy-go-lucky,...</td>\n",
       "      <td>[Comedy, Drama, Romance]</td>\n",
       "      <td>[]</td>\n",
       "      <td>[ShahRukhKhan, Kajol, AmrishPuri]</td>\n",
       "      <td>[AdityaChopra]</td>\n",
       "    </tr>\n",
       "    <tr>\n",
       "      <th>4</th>\n",
       "      <td>424</td>\n",
       "      <td>Schindler's List</td>\n",
       "      <td>[The, true, story, of, how, businessman, Oskar...</td>\n",
       "      <td>[Drama, History, War]</td>\n",
       "      <td>[basedonnovelorbook, factory, concentrationcam...</td>\n",
       "      <td>[LiamNeeson, BenKingsley, RalphFiennes]</td>\n",
       "      <td>[StevenSpielberg]</td>\n",
       "    </tr>\n",
       "  </tbody>\n",
       "</table>\n",
       "</div>"
      ],
      "text/plain": [
       "   Movie_id_x                        title  \\\n",
       "0         238                The Godfather   \n",
       "1         278     The Shawshank Redemption   \n",
       "2         240        The Godfather Part II   \n",
       "3       19404  Dilwale Dulhania Le Jayenge   \n",
       "4         424             Schindler's List   \n",
       "\n",
       "                                            overview  \\\n",
       "0  [Spanning, the, years, 1945, to, 1955,, a, chr...   \n",
       "1  [Framed, in, the, 1940s, for, the, double, mur...   \n",
       "2  [In, the, continuing, saga, of, the, Corleone,...   \n",
       "3  [Raj, is, a, rich,, carefree,, happy-go-lucky,...   \n",
       "4  [The, true, story, of, how, businessman, Oskar...   \n",
       "\n",
       "                     Genres  \\\n",
       "0            [Drama, Crime]   \n",
       "1            [Drama, Crime]   \n",
       "2            [Drama, Crime]   \n",
       "3  [Comedy, Drama, Romance]   \n",
       "4     [Drama, History, War]   \n",
       "\n",
       "                                            Keywords  \\\n",
       "0  [italy, lossoflovedone, loveatfirstsight, base...   \n",
       "1  [prison, corruption, policebrutality, basedonn...   \n",
       "2  [italy, italianamerican, cuba, symbolism, gang...   \n",
       "3                                                 []   \n",
       "4  [basedonnovelorbook, factory, concentrationcam...   \n",
       "\n",
       "                                      Cast                  Crew  \n",
       "0      [MarlonBrando, AlPacino, JamesCaan]  [FrancisFordCoppola]  \n",
       "1   [TimRobbins, MorganFreeman, BobGunton]       [FrankDarabont]  \n",
       "2    [AlPacino, RobertDuvall, DianeKeaton]  [FrancisFordCoppola]  \n",
       "3        [ShahRukhKhan, Kajol, AmrishPuri]        [AdityaChopra]  \n",
       "4  [LiamNeeson, BenKingsley, RalphFiennes]     [StevenSpielberg]  "
      ]
     },
     "execution_count": 52,
     "metadata": {},
     "output_type": "execute_result"
    }
   ],
   "source": [
    "movies.head()"
   ]
  },
  {
   "cell_type": "code",
   "execution_count": 53,
   "metadata": {},
   "outputs": [],
   "source": [
    "movies['tags'] = movies['overview'] + movies['Genres'] + movies['Keywords'] + movies['Cast'] + movies['Crew']"
   ]
  },
  {
   "cell_type": "code",
   "execution_count": 54,
   "metadata": {},
   "outputs": [
    {
     "data": {
      "text/html": [
       "<div>\n",
       "<style scoped>\n",
       "    .dataframe tbody tr th:only-of-type {\n",
       "        vertical-align: middle;\n",
       "    }\n",
       "\n",
       "    .dataframe tbody tr th {\n",
       "        vertical-align: top;\n",
       "    }\n",
       "\n",
       "    .dataframe thead th {\n",
       "        text-align: right;\n",
       "    }\n",
       "</style>\n",
       "<table border=\"1\" class=\"dataframe\">\n",
       "  <thead>\n",
       "    <tr style=\"text-align: right;\">\n",
       "      <th></th>\n",
       "      <th>Movie_id_x</th>\n",
       "      <th>title</th>\n",
       "      <th>overview</th>\n",
       "      <th>Genres</th>\n",
       "      <th>Keywords</th>\n",
       "      <th>Cast</th>\n",
       "      <th>Crew</th>\n",
       "      <th>tags</th>\n",
       "    </tr>\n",
       "  </thead>\n",
       "  <tbody>\n",
       "    <tr>\n",
       "      <th>0</th>\n",
       "      <td>238</td>\n",
       "      <td>The Godfather</td>\n",
       "      <td>[Spanning, the, years, 1945, to, 1955,, a, chr...</td>\n",
       "      <td>[Drama, Crime]</td>\n",
       "      <td>[italy, lossoflovedone, loveatfirstsight, base...</td>\n",
       "      <td>[MarlonBrando, AlPacino, JamesCaan]</td>\n",
       "      <td>[FrancisFordCoppola]</td>\n",
       "      <td>[Spanning, the, years, 1945, to, 1955,, a, chr...</td>\n",
       "    </tr>\n",
       "    <tr>\n",
       "      <th>1</th>\n",
       "      <td>278</td>\n",
       "      <td>The Shawshank Redemption</td>\n",
       "      <td>[Framed, in, the, 1940s, for, the, double, mur...</td>\n",
       "      <td>[Drama, Crime]</td>\n",
       "      <td>[prison, corruption, policebrutality, basedonn...</td>\n",
       "      <td>[TimRobbins, MorganFreeman, BobGunton]</td>\n",
       "      <td>[FrankDarabont]</td>\n",
       "      <td>[Framed, in, the, 1940s, for, the, double, mur...</td>\n",
       "    </tr>\n",
       "    <tr>\n",
       "      <th>2</th>\n",
       "      <td>240</td>\n",
       "      <td>The Godfather Part II</td>\n",
       "      <td>[In, the, continuing, saga, of, the, Corleone,...</td>\n",
       "      <td>[Drama, Crime]</td>\n",
       "      <td>[italy, italianamerican, cuba, symbolism, gang...</td>\n",
       "      <td>[AlPacino, RobertDuvall, DianeKeaton]</td>\n",
       "      <td>[FrancisFordCoppola]</td>\n",
       "      <td>[In, the, continuing, saga, of, the, Corleone,...</td>\n",
       "    </tr>\n",
       "    <tr>\n",
       "      <th>3</th>\n",
       "      <td>19404</td>\n",
       "      <td>Dilwale Dulhania Le Jayenge</td>\n",
       "      <td>[Raj, is, a, rich,, carefree,, happy-go-lucky,...</td>\n",
       "      <td>[Comedy, Drama, Romance]</td>\n",
       "      <td>[]</td>\n",
       "      <td>[ShahRukhKhan, Kajol, AmrishPuri]</td>\n",
       "      <td>[AdityaChopra]</td>\n",
       "      <td>[Raj, is, a, rich,, carefree,, happy-go-lucky,...</td>\n",
       "    </tr>\n",
       "    <tr>\n",
       "      <th>4</th>\n",
       "      <td>424</td>\n",
       "      <td>Schindler's List</td>\n",
       "      <td>[The, true, story, of, how, businessman, Oskar...</td>\n",
       "      <td>[Drama, History, War]</td>\n",
       "      <td>[basedonnovelorbook, factory, concentrationcam...</td>\n",
       "      <td>[LiamNeeson, BenKingsley, RalphFiennes]</td>\n",
       "      <td>[StevenSpielberg]</td>\n",
       "      <td>[The, true, story, of, how, businessman, Oskar...</td>\n",
       "    </tr>\n",
       "  </tbody>\n",
       "</table>\n",
       "</div>"
      ],
      "text/plain": [
       "   Movie_id_x                        title  \\\n",
       "0         238                The Godfather   \n",
       "1         278     The Shawshank Redemption   \n",
       "2         240        The Godfather Part II   \n",
       "3       19404  Dilwale Dulhania Le Jayenge   \n",
       "4         424             Schindler's List   \n",
       "\n",
       "                                            overview  \\\n",
       "0  [Spanning, the, years, 1945, to, 1955,, a, chr...   \n",
       "1  [Framed, in, the, 1940s, for, the, double, mur...   \n",
       "2  [In, the, continuing, saga, of, the, Corleone,...   \n",
       "3  [Raj, is, a, rich,, carefree,, happy-go-lucky,...   \n",
       "4  [The, true, story, of, how, businessman, Oskar...   \n",
       "\n",
       "                     Genres  \\\n",
       "0            [Drama, Crime]   \n",
       "1            [Drama, Crime]   \n",
       "2            [Drama, Crime]   \n",
       "3  [Comedy, Drama, Romance]   \n",
       "4     [Drama, History, War]   \n",
       "\n",
       "                                            Keywords  \\\n",
       "0  [italy, lossoflovedone, loveatfirstsight, base...   \n",
       "1  [prison, corruption, policebrutality, basedonn...   \n",
       "2  [italy, italianamerican, cuba, symbolism, gang...   \n",
       "3                                                 []   \n",
       "4  [basedonnovelorbook, factory, concentrationcam...   \n",
       "\n",
       "                                      Cast                  Crew  \\\n",
       "0      [MarlonBrando, AlPacino, JamesCaan]  [FrancisFordCoppola]   \n",
       "1   [TimRobbins, MorganFreeman, BobGunton]       [FrankDarabont]   \n",
       "2    [AlPacino, RobertDuvall, DianeKeaton]  [FrancisFordCoppola]   \n",
       "3        [ShahRukhKhan, Kajol, AmrishPuri]        [AdityaChopra]   \n",
       "4  [LiamNeeson, BenKingsley, RalphFiennes]     [StevenSpielberg]   \n",
       "\n",
       "                                                tags  \n",
       "0  [Spanning, the, years, 1945, to, 1955,, a, chr...  \n",
       "1  [Framed, in, the, 1940s, for, the, double, mur...  \n",
       "2  [In, the, continuing, saga, of, the, Corleone,...  \n",
       "3  [Raj, is, a, rich,, carefree,, happy-go-lucky,...  \n",
       "4  [The, true, story, of, how, businessman, Oskar...  "
      ]
     },
     "execution_count": 54,
     "metadata": {},
     "output_type": "execute_result"
    }
   ],
   "source": [
    "movies.head()"
   ]
  },
  {
   "cell_type": "code",
   "execution_count": 55,
   "metadata": {},
   "outputs": [
    {
     "data": {
      "text/plain": [
       "['Spanning',\n",
       " 'the',\n",
       " 'years',\n",
       " '1945',\n",
       " 'to',\n",
       " '1955,',\n",
       " 'a',\n",
       " 'chronicle',\n",
       " 'of',\n",
       " 'the',\n",
       " 'fictional',\n",
       " 'Italian-American',\n",
       " 'Corleone',\n",
       " 'crime',\n",
       " 'family.',\n",
       " 'When',\n",
       " 'organized',\n",
       " 'crime',\n",
       " 'family',\n",
       " 'patriarch,',\n",
       " 'Vito',\n",
       " 'Corleone',\n",
       " 'barely',\n",
       " 'survives',\n",
       " 'an',\n",
       " 'attempt',\n",
       " 'on',\n",
       " 'his',\n",
       " 'life,',\n",
       " 'his',\n",
       " 'youngest',\n",
       " 'son,',\n",
       " 'Michael',\n",
       " 'steps',\n",
       " 'in',\n",
       " 'to',\n",
       " 'take',\n",
       " 'care',\n",
       " 'of',\n",
       " 'the',\n",
       " 'would-be',\n",
       " 'killers,',\n",
       " 'launching',\n",
       " 'a',\n",
       " 'campaign',\n",
       " 'of',\n",
       " 'bloody',\n",
       " 'revenge.',\n",
       " 'Drama',\n",
       " 'Crime',\n",
       " 'italy',\n",
       " 'lossoflovedone',\n",
       " 'loveatfirstsight',\n",
       " 'basedonnovelorbook',\n",
       " 'europe',\n",
       " 'symbolism',\n",
       " 'patriarch',\n",
       " 'organizedcrime',\n",
       " 'mafia',\n",
       " 'lawyer',\n",
       " 'religion',\n",
       " 'revengemotive',\n",
       " 'crimefamily',\n",
       " 'sicilianmafia',\n",
       " 'religioushypocrisy',\n",
       " 'gunviolence',\n",
       " 'risetopower',\n",
       " 'deadhorse',\n",
       " 'gangviolence',\n",
       " '1940s',\n",
       " '1950s',\n",
       " 'mafiawar',\n",
       " 'partoftrilogy',\n",
       " 'MarlonBrando',\n",
       " 'AlPacino',\n",
       " 'JamesCaan',\n",
       " 'FrancisFordCoppola']"
      ]
     },
     "execution_count": 55,
     "metadata": {},
     "output_type": "execute_result"
    }
   ],
   "source": [
    "movies.iloc[0]['tags']"
   ]
  },
  {
   "cell_type": "code",
   "execution_count": 56,
   "metadata": {},
   "outputs": [],
   "source": [
    "new_df = movies[['Movie_id_x','title','tags']]"
   ]
  },
  {
   "cell_type": "code",
   "execution_count": 57,
   "metadata": {},
   "outputs": [
    {
     "data": {
      "text/html": [
       "<div>\n",
       "<style scoped>\n",
       "    .dataframe tbody tr th:only-of-type {\n",
       "        vertical-align: middle;\n",
       "    }\n",
       "\n",
       "    .dataframe tbody tr th {\n",
       "        vertical-align: top;\n",
       "    }\n",
       "\n",
       "    .dataframe thead th {\n",
       "        text-align: right;\n",
       "    }\n",
       "</style>\n",
       "<table border=\"1\" class=\"dataframe\">\n",
       "  <thead>\n",
       "    <tr style=\"text-align: right;\">\n",
       "      <th></th>\n",
       "      <th>Movie_id_x</th>\n",
       "      <th>title</th>\n",
       "      <th>tags</th>\n",
       "    </tr>\n",
       "  </thead>\n",
       "  <tbody>\n",
       "    <tr>\n",
       "      <th>0</th>\n",
       "      <td>238</td>\n",
       "      <td>The Godfather</td>\n",
       "      <td>[Spanning, the, years, 1945, to, 1955,, a, chr...</td>\n",
       "    </tr>\n",
       "    <tr>\n",
       "      <th>1</th>\n",
       "      <td>278</td>\n",
       "      <td>The Shawshank Redemption</td>\n",
       "      <td>[Framed, in, the, 1940s, for, the, double, mur...</td>\n",
       "    </tr>\n",
       "    <tr>\n",
       "      <th>2</th>\n",
       "      <td>240</td>\n",
       "      <td>The Godfather Part II</td>\n",
       "      <td>[In, the, continuing, saga, of, the, Corleone,...</td>\n",
       "    </tr>\n",
       "    <tr>\n",
       "      <th>3</th>\n",
       "      <td>19404</td>\n",
       "      <td>Dilwale Dulhania Le Jayenge</td>\n",
       "      <td>[Raj, is, a, rich,, carefree,, happy-go-lucky,...</td>\n",
       "    </tr>\n",
       "    <tr>\n",
       "      <th>4</th>\n",
       "      <td>424</td>\n",
       "      <td>Schindler's List</td>\n",
       "      <td>[The, true, story, of, how, businessman, Oskar...</td>\n",
       "    </tr>\n",
       "  </tbody>\n",
       "</table>\n",
       "</div>"
      ],
      "text/plain": [
       "   Movie_id_x                        title  \\\n",
       "0         238                The Godfather   \n",
       "1         278     The Shawshank Redemption   \n",
       "2         240        The Godfather Part II   \n",
       "3       19404  Dilwale Dulhania Le Jayenge   \n",
       "4         424             Schindler's List   \n",
       "\n",
       "                                                tags  \n",
       "0  [Spanning, the, years, 1945, to, 1955,, a, chr...  \n",
       "1  [Framed, in, the, 1940s, for, the, double, mur...  \n",
       "2  [In, the, continuing, saga, of, the, Corleone,...  \n",
       "3  [Raj, is, a, rich,, carefree,, happy-go-lucky,...  \n",
       "4  [The, true, story, of, how, businessman, Oskar...  "
      ]
     },
     "execution_count": 57,
     "metadata": {},
     "output_type": "execute_result"
    }
   ],
   "source": [
    "new_df.head()"
   ]
  },
  {
   "cell_type": "code",
   "execution_count": 58,
   "metadata": {},
   "outputs": [
    {
     "name": "stderr",
     "output_type": "stream",
     "text": [
      "C:\\Users\\shilp\\AppData\\Local\\Temp\\ipykernel_12624\\1955922539.py:1: SettingWithCopyWarning: \n",
      "A value is trying to be set on a copy of a slice from a DataFrame.\n",
      "Try using .loc[row_indexer,col_indexer] = value instead\n",
      "\n",
      "See the caveats in the documentation: https://pandas.pydata.org/pandas-docs/stable/user_guide/indexing.html#returning-a-view-versus-a-copy\n",
      "  new_df['tags'] = new_df['tags'].apply(lambda x: \" \".join(x))\n"
     ]
    },
    {
     "data": {
      "text/html": [
       "<div>\n",
       "<style scoped>\n",
       "    .dataframe tbody tr th:only-of-type {\n",
       "        vertical-align: middle;\n",
       "    }\n",
       "\n",
       "    .dataframe tbody tr th {\n",
       "        vertical-align: top;\n",
       "    }\n",
       "\n",
       "    .dataframe thead th {\n",
       "        text-align: right;\n",
       "    }\n",
       "</style>\n",
       "<table border=\"1\" class=\"dataframe\">\n",
       "  <thead>\n",
       "    <tr style=\"text-align: right;\">\n",
       "      <th></th>\n",
       "      <th>Movie_id_x</th>\n",
       "      <th>title</th>\n",
       "      <th>tags</th>\n",
       "    </tr>\n",
       "  </thead>\n",
       "  <tbody>\n",
       "    <tr>\n",
       "      <th>0</th>\n",
       "      <td>238</td>\n",
       "      <td>The Godfather</td>\n",
       "      <td>Spanning the years 1945 to 1955, a chronicle o...</td>\n",
       "    </tr>\n",
       "    <tr>\n",
       "      <th>1</th>\n",
       "      <td>278</td>\n",
       "      <td>The Shawshank Redemption</td>\n",
       "      <td>Framed in the 1940s for the double murder of h...</td>\n",
       "    </tr>\n",
       "    <tr>\n",
       "      <th>2</th>\n",
       "      <td>240</td>\n",
       "      <td>The Godfather Part II</td>\n",
       "      <td>In the continuing saga of the Corleone crime f...</td>\n",
       "    </tr>\n",
       "    <tr>\n",
       "      <th>3</th>\n",
       "      <td>19404</td>\n",
       "      <td>Dilwale Dulhania Le Jayenge</td>\n",
       "      <td>Raj is a rich, carefree, happy-go-lucky second...</td>\n",
       "    </tr>\n",
       "    <tr>\n",
       "      <th>4</th>\n",
       "      <td>424</td>\n",
       "      <td>Schindler's List</td>\n",
       "      <td>The true story of how businessman Oskar Schind...</td>\n",
       "    </tr>\n",
       "  </tbody>\n",
       "</table>\n",
       "</div>"
      ],
      "text/plain": [
       "   Movie_id_x                        title  \\\n",
       "0         238                The Godfather   \n",
       "1         278     The Shawshank Redemption   \n",
       "2         240        The Godfather Part II   \n",
       "3       19404  Dilwale Dulhania Le Jayenge   \n",
       "4         424             Schindler's List   \n",
       "\n",
       "                                                tags  \n",
       "0  Spanning the years 1945 to 1955, a chronicle o...  \n",
       "1  Framed in the 1940s for the double murder of h...  \n",
       "2  In the continuing saga of the Corleone crime f...  \n",
       "3  Raj is a rich, carefree, happy-go-lucky second...  \n",
       "4  The true story of how businessman Oskar Schind...  "
      ]
     },
     "execution_count": 58,
     "metadata": {},
     "output_type": "execute_result"
    }
   ],
   "source": [
    "new_df['tags'] = new_df['tags'].apply(lambda x: \" \".join(x))\n",
    "new_df.head()"
   ]
  },
  {
   "cell_type": "code",
   "execution_count": 59,
   "metadata": {},
   "outputs": [
    {
     "data": {
      "text/plain": [
       "'Spanning the years 1945 to 1955, a chronicle of the fictional Italian-American Corleone crime family. When organized crime family patriarch, Vito Corleone barely survives an attempt on his life, his youngest son, Michael steps in to take care of the would-be killers, launching a campaign of bloody revenge. Drama Crime italy lossoflovedone loveatfirstsight basedonnovelorbook europe symbolism patriarch organizedcrime mafia lawyer religion revengemotive crimefamily sicilianmafia religioushypocrisy gunviolence risetopower deadhorse gangviolence 1940s 1950s mafiawar partoftrilogy MarlonBrando AlPacino JamesCaan FrancisFordCoppola'"
      ]
     },
     "execution_count": 59,
     "metadata": {},
     "output_type": "execute_result"
    }
   ],
   "source": [
    "new_df.iloc[0]['tags']"
   ]
  },
  {
   "cell_type": "code",
   "execution_count": 60,
   "metadata": {},
   "outputs": [
    {
     "name": "stderr",
     "output_type": "stream",
     "text": [
      "C:\\Users\\shilp\\AppData\\Local\\Temp\\ipykernel_12624\\3214958533.py:1: SettingWithCopyWarning: \n",
      "A value is trying to be set on a copy of a slice from a DataFrame.\n",
      "Try using .loc[row_indexer,col_indexer] = value instead\n",
      "\n",
      "See the caveats in the documentation: https://pandas.pydata.org/pandas-docs/stable/user_guide/indexing.html#returning-a-view-versus-a-copy\n",
      "  new_df['tags'] = new_df['tags'].apply(lambda x:x.lower())\n"
     ]
    }
   ],
   "source": [
    "new_df['tags'] = new_df['tags'].apply(lambda x:x.lower())"
   ]
  },
  {
   "cell_type": "code",
   "execution_count": 61,
   "metadata": {},
   "outputs": [
    {
     "data": {
      "text/html": [
       "<div>\n",
       "<style scoped>\n",
       "    .dataframe tbody tr th:only-of-type {\n",
       "        vertical-align: middle;\n",
       "    }\n",
       "\n",
       "    .dataframe tbody tr th {\n",
       "        vertical-align: top;\n",
       "    }\n",
       "\n",
       "    .dataframe thead th {\n",
       "        text-align: right;\n",
       "    }\n",
       "</style>\n",
       "<table border=\"1\" class=\"dataframe\">\n",
       "  <thead>\n",
       "    <tr style=\"text-align: right;\">\n",
       "      <th></th>\n",
       "      <th>Movie_id_x</th>\n",
       "      <th>title</th>\n",
       "      <th>tags</th>\n",
       "    </tr>\n",
       "  </thead>\n",
       "  <tbody>\n",
       "    <tr>\n",
       "      <th>0</th>\n",
       "      <td>238</td>\n",
       "      <td>The Godfather</td>\n",
       "      <td>spanning the years 1945 to 1955, a chronicle o...</td>\n",
       "    </tr>\n",
       "    <tr>\n",
       "      <th>1</th>\n",
       "      <td>278</td>\n",
       "      <td>The Shawshank Redemption</td>\n",
       "      <td>framed in the 1940s for the double murder of h...</td>\n",
       "    </tr>\n",
       "    <tr>\n",
       "      <th>2</th>\n",
       "      <td>240</td>\n",
       "      <td>The Godfather Part II</td>\n",
       "      <td>in the continuing saga of the corleone crime f...</td>\n",
       "    </tr>\n",
       "    <tr>\n",
       "      <th>3</th>\n",
       "      <td>19404</td>\n",
       "      <td>Dilwale Dulhania Le Jayenge</td>\n",
       "      <td>raj is a rich, carefree, happy-go-lucky second...</td>\n",
       "    </tr>\n",
       "    <tr>\n",
       "      <th>4</th>\n",
       "      <td>424</td>\n",
       "      <td>Schindler's List</td>\n",
       "      <td>the true story of how businessman oskar schind...</td>\n",
       "    </tr>\n",
       "  </tbody>\n",
       "</table>\n",
       "</div>"
      ],
      "text/plain": [
       "   Movie_id_x                        title  \\\n",
       "0         238                The Godfather   \n",
       "1         278     The Shawshank Redemption   \n",
       "2         240        The Godfather Part II   \n",
       "3       19404  Dilwale Dulhania Le Jayenge   \n",
       "4         424             Schindler's List   \n",
       "\n",
       "                                                tags  \n",
       "0  spanning the years 1945 to 1955, a chronicle o...  \n",
       "1  framed in the 1940s for the double murder of h...  \n",
       "2  in the continuing saga of the corleone crime f...  \n",
       "3  raj is a rich, carefree, happy-go-lucky second...  \n",
       "4  the true story of how businessman oskar schind...  "
      ]
     },
     "execution_count": 61,
     "metadata": {},
     "output_type": "execute_result"
    }
   ],
   "source": [
    "new_df.head()"
   ]
  },
  {
   "cell_type": "code",
   "execution_count": 62,
   "metadata": {},
   "outputs": [
    {
     "data": {
      "text/plain": [
       "'spanning the years 1945 to 1955, a chronicle of the fictional italian-american corleone crime family. when organized crime family patriarch, vito corleone barely survives an attempt on his life, his youngest son, michael steps in to take care of the would-be killers, launching a campaign of bloody revenge. drama crime italy lossoflovedone loveatfirstsight basedonnovelorbook europe symbolism patriarch organizedcrime mafia lawyer religion revengemotive crimefamily sicilianmafia religioushypocrisy gunviolence risetopower deadhorse gangviolence 1940s 1950s mafiawar partoftrilogy marlonbrando alpacino jamescaan francisfordcoppola'"
      ]
     },
     "execution_count": 62,
     "metadata": {},
     "output_type": "execute_result"
    }
   ],
   "source": [
    "new_df.iloc[0]['tags']"
   ]
  },
  {
   "cell_type": "code",
   "execution_count": 63,
   "metadata": {},
   "outputs": [],
   "source": [
    "import nltk\n",
    "from nltk.stem import PorterStemmer"
   ]
  },
  {
   "cell_type": "code",
   "execution_count": 64,
   "metadata": {},
   "outputs": [],
   "source": [
    "ps = PorterStemmer()"
   ]
  },
  {
   "cell_type": "code",
   "execution_count": 65,
   "metadata": {},
   "outputs": [],
   "source": [
    "def stems(text):\n",
    "    T = []\n",
    "    \n",
    "    for i in text.split():\n",
    "        T.append(ps.stem(i))\n",
    "    \n",
    "    return \" \".join(T)"
   ]
  },
  {
   "cell_type": "code",
   "execution_count": 66,
   "metadata": {},
   "outputs": [
    {
     "name": "stderr",
     "output_type": "stream",
     "text": [
      "C:\\Users\\shilp\\AppData\\Local\\Temp\\ipykernel_12624\\3973021881.py:1: SettingWithCopyWarning: \n",
      "A value is trying to be set on a copy of a slice from a DataFrame.\n",
      "Try using .loc[row_indexer,col_indexer] = value instead\n",
      "\n",
      "See the caveats in the documentation: https://pandas.pydata.org/pandas-docs/stable/user_guide/indexing.html#returning-a-view-versus-a-copy\n",
      "  new_df['tags'] = new_df['tags'].apply(stems)\n"
     ]
    }
   ],
   "source": [
    "new_df['tags'] = new_df['tags'].apply(stems)"
   ]
  },
  {
   "cell_type": "code",
   "execution_count": 67,
   "metadata": {},
   "outputs": [
    {
     "data": {
      "text/plain": [
       "'span the year 1945 to 1955, a chronicl of the fiction italian-american corleon crime family. when organ crime famili patriarch, vito corleon bare surviv an attempt on hi life, hi youngest son, michael step in to take care of the would-b killers, launch a campaign of bloodi revenge. drama crime itali lossoflovedon loveatfirstsight basedonnovelorbook europ symbol patriarch organizedcrim mafia lawyer religion revengemot crimefamili sicilianmafia religioushypocrisi gunviol risetopow deadhors gangviol 1940 1950 mafiawar partoftrilog marlonbrando alpacino jamescaan francisfordcoppola'"
      ]
     },
     "execution_count": 67,
     "metadata": {},
     "output_type": "execute_result"
    }
   ],
   "source": [
    "new_df.iloc[0]['tags']"
   ]
  },
  {
   "cell_type": "code",
   "execution_count": 68,
   "metadata": {},
   "outputs": [],
   "source": [
    "from sklearn.feature_extraction.text import CountVectorizer\n",
    "cv = CountVectorizer(max_features=5000,stop_words='english')"
   ]
  },
  {
   "cell_type": "code",
   "execution_count": 69,
   "metadata": {},
   "outputs": [],
   "source": [
    "vector = cv.fit_transform(new_df['tags']).toarray()"
   ]
  },
  {
   "cell_type": "code",
   "execution_count": 70,
   "metadata": {},
   "outputs": [
    {
     "data": {
      "text/plain": [
       "array([0, 0, 0, ..., 0, 0, 0], dtype=int64)"
      ]
     },
     "execution_count": 70,
     "metadata": {},
     "output_type": "execute_result"
    }
   ],
   "source": [
    "vector[0]"
   ]
  },
  {
   "cell_type": "code",
   "execution_count": 71,
   "metadata": {},
   "outputs": [
    {
     "data": {
      "text/plain": [
       "(10704, 5000)"
      ]
     },
     "execution_count": 71,
     "metadata": {},
     "output_type": "execute_result"
    }
   ],
   "source": [
    "vector.shape"
   ]
  },
  {
   "cell_type": "code",
   "execution_count": 72,
   "metadata": {},
   "outputs": [],
   "source": [
    "from sklearn.metrics.pairwise import cosine_similarity"
   ]
  },
  {
   "cell_type": "code",
   "execution_count": 73,
   "metadata": {},
   "outputs": [],
   "source": [
    "similarity = cosine_similarity(vector)"
   ]
  },
  {
   "cell_type": "code",
   "execution_count": 74,
   "metadata": {},
   "outputs": [
    {
     "data": {
      "text/plain": [
       "array([[1.        , 0.24759378, 0.3939193 , ..., 0.13295815, 0.08808303,\n",
       "        0.08808303],\n",
       "       [0.24759378, 1.        , 0.07856742, ..., 0.23866719, 0.02635231,\n",
       "        0.02635231],\n",
       "       [0.3939193 , 0.07856742, 1.        , ..., 0.        , 0.0745356 ,\n",
       "        0.0745356 ],\n",
       "       ...,\n",
       "       [0.13295815, 0.23866719, 0.        , ..., 1.        , 0.        ,\n",
       "        0.        ],\n",
       "       [0.08808303, 0.02635231, 0.0745356 , ..., 0.        , 1.        ,\n",
       "        0.95      ],\n",
       "       [0.08808303, 0.02635231, 0.0745356 , ..., 0.        , 0.95      ,\n",
       "        1.        ]])"
      ]
     },
     "execution_count": 74,
     "metadata": {},
     "output_type": "execute_result"
    }
   ],
   "source": [
    "similarity"
   ]
  },
  {
   "cell_type": "code",
   "execution_count": 75,
   "metadata": {},
   "outputs": [
    {
     "data": {
      "text/plain": [
       "(10704, 10704)"
      ]
     },
     "execution_count": 75,
     "metadata": {},
     "output_type": "execute_result"
    }
   ],
   "source": [
    "similarity.shape"
   ]
  },
  {
   "cell_type": "code",
   "execution_count": 76,
   "metadata": {},
   "outputs": [
    {
     "data": {
      "text/plain": [
       "2461"
      ]
     },
     "execution_count": 76,
     "metadata": {},
     "output_type": "execute_result"
    }
   ],
   "source": [
    "new_df[new_df['title']== 'Spider-Man'].index[0]"
   ]
  },
  {
   "cell_type": "code",
   "execution_count": 77,
   "metadata": {},
   "outputs": [],
   "source": [
    "def recommend(movie):\n",
    "    index = new_df[new_df['title'] == movie].index[0]\n",
    "    distances = sorted(list(enumerate(similarity[index])),reverse=True,key = lambda x: x[1])\n",
    "    for i in distances[1:8]:\n",
    "        print(new_df.iloc[i[0]].title)"
   ]
  },
  {
   "cell_type": "code",
   "execution_count": 78,
   "metadata": {},
   "outputs": [
    {
     "name": "stdout",
     "output_type": "stream",
     "text": [
      "The Batman\n",
      "Batman: The Long Halloween, Part One\n",
      "Batman: Hush\n",
      "The Dark Knight\n",
      "Batman: The Long Halloween, Part Two\n",
      "Death Wish 3\n",
      "Batman: Mask of the Phantasm\n"
     ]
    }
   ],
   "source": [
    "recommend('The Dark Knight Rises')"
   ]
  },
  {
   "cell_type": "code",
   "execution_count": 79,
   "metadata": {},
   "outputs": [],
   "source": [
    "import pickle"
   ]
  },
  {
   "cell_type": "code",
   "execution_count": 81,
   "metadata": {},
   "outputs": [],
   "source": [
    "pickle.dump(new_df,open('artifacts/movie_list.pkl','wb'))\n",
    "pickle.dump(similarity,open('artifacts/similarity.pkl','wb'))"
   ]
  },
  {
   "cell_type": "code",
   "execution_count": null,
   "metadata": {},
   "outputs": [],
   "source": []
  }
 ],
 "metadata": {
  "kernelspec": {
   "display_name": "Python 3 (ipykernel)",
   "language": "python",
   "name": "python3"
  },
  "language_info": {
   "codemirror_mode": {
    "name": "ipython",
    "version": 3
   },
   "file_extension": ".py",
   "mimetype": "text/x-python",
   "name": "python",
   "nbconvert_exporter": "python",
   "pygments_lexer": "ipython3",
   "version": "3.12.7"
  }
 },
 "nbformat": 4,
 "nbformat_minor": 4
}
